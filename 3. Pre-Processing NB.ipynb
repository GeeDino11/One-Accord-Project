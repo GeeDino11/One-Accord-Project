{
 "cells": [
  {
   "cell_type": "markdown",
   "id": "82d89530-9739-484e-8670-5ed0c22be5a6",
   "metadata": {},
   "source": [
    "## Adding one additional label as a catch all \"Other\""
   ]
  },
  {
   "cell_type": "code",
   "execution_count": 1,
   "id": "7821deff-2701-42b4-b084-024eb9303e79",
   "metadata": {},
   "outputs": [],
   "source": [
    "import torch, os\n",
    "import pandas as pd\n",
    "from transformers import pipeline, BertForSequenceClassification, BertTokenizerFast\n",
    "from torch.utils.data import Dataset\n",
    "from datasets import load_dataset"
   ]
  },
  {
   "cell_type": "code",
   "execution_count": 2,
   "id": "e8328d10-660a-4d69-9598-df424868e5bd",
   "metadata": {},
   "outputs": [
    {
     "data": {
      "text/plain": [
       "'cuda'"
      ]
     },
     "execution_count": 2,
     "metadata": {},
     "output_type": "execute_result"
    }
   ],
   "source": [
    "from torch import cuda\n",
    "device = 'cuda' if cuda.is_available() else 'cpu'\n",
    "device"
   ]
  },
  {
   "cell_type": "code",
   "execution_count": 3,
   "id": "a37a4bf2-3bf7-43cf-8a0a-8a8dbfa87543",
   "metadata": {},
   "outputs": [],
   "source": [
    "df = pd.read_csv('data/cleaned_master.csv')"
   ]
  },
  {
   "cell_type": "code",
   "execution_count": 4,
   "id": "a5494b47-1859-47ed-87fd-5be541132cd8",
   "metadata": {},
   "outputs": [
    {
     "data": {
      "text/html": [
       "<div>\n",
       "<style scoped>\n",
       "    .dataframe tbody tr th:only-of-type {\n",
       "        vertical-align: middle;\n",
       "    }\n",
       "\n",
       "    .dataframe tbody tr th {\n",
       "        vertical-align: top;\n",
       "    }\n",
       "\n",
       "    .dataframe thead th {\n",
       "        text-align: right;\n",
       "    }\n",
       "</style>\n",
       "<table border=\"1\" class=\"dataframe\">\n",
       "  <thead>\n",
       "    <tr style=\"text-align: right;\">\n",
       "      <th></th>\n",
       "      <th>text</th>\n",
       "      <th>date</th>\n",
       "      <th>label</th>\n",
       "      <th>label_name</th>\n",
       "      <th>id</th>\n",
       "    </tr>\n",
       "  </thead>\n",
       "  <tbody>\n",
       "    <tr>\n",
       "      <th>0</th>\n",
       "      <td>{{USERNAME}} Fair enough! Honestly I can not i...</td>\n",
       "      <td>2024-04-26</td>\n",
       "      <td>2</td>\n",
       "      <td>bible</td>\n",
       "      <td>1783677542588727555</td>\n",
       "    </tr>\n",
       "    <tr>\n",
       "      <th>1</th>\n",
       "      <td>{{USERNAME}} {{USERNAME}} I hear ya. I wasn’t ...</td>\n",
       "      <td>2024-04-26</td>\n",
       "      <td>2</td>\n",
       "      <td>bible</td>\n",
       "      <td>1783677542005649587</td>\n",
       "    </tr>\n",
       "    <tr>\n",
       "      <th>2</th>\n",
       "      <td>{{USERNAME}} Holy reach #BUST</td>\n",
       "      <td>2024-04-26</td>\n",
       "      <td>2</td>\n",
       "      <td>bible</td>\n",
       "      <td>1783677527355174915</td>\n",
       "    </tr>\n",
       "    <tr>\n",
       "      <th>3</th>\n",
       "      <td>{{USERNAME}} I was out to dinner tonight and j...</td>\n",
       "      <td>2024-04-26</td>\n",
       "      <td>2</td>\n",
       "      <td>bible</td>\n",
       "      <td>1783677526901932435</td>\n",
       "    </tr>\n",
       "    <tr>\n",
       "      <th>4</th>\n",
       "      <td>{{USERNAME}} Holy shit</td>\n",
       "      <td>2024-04-26</td>\n",
       "      <td>2</td>\n",
       "      <td>bible</td>\n",
       "      <td>1783677526537064910</td>\n",
       "    </tr>\n",
       "  </tbody>\n",
       "</table>\n",
       "</div>"
      ],
      "text/plain": [
       "                                                text        date  label  \\\n",
       "0  {{USERNAME}} Fair enough! Honestly I can not i...  2024-04-26      2   \n",
       "1  {{USERNAME}} {{USERNAME}} I hear ya. I wasn’t ...  2024-04-26      2   \n",
       "2                      {{USERNAME}} Holy reach #BUST  2024-04-26      2   \n",
       "3  {{USERNAME}} I was out to dinner tonight and j...  2024-04-26      2   \n",
       "4                             {{USERNAME}} Holy shit  2024-04-26      2   \n",
       "\n",
       "  label_name                   id  \n",
       "0      bible  1783677542588727555  \n",
       "1      bible  1783677542005649587  \n",
       "2      bible  1783677527355174915  \n",
       "3      bible  1783677526901932435  \n",
       "4      bible  1783677526537064910  "
      ]
     },
     "execution_count": 4,
     "metadata": {},
     "output_type": "execute_result"
    }
   ],
   "source": [
    "df.head()"
   ]
  },
  {
   "cell_type": "code",
   "execution_count": 5,
   "id": "b9d4837e-ec58-483a-834d-cad0fa3204f1",
   "metadata": {},
   "outputs": [],
   "source": [
    "# import re\n",
    "\n",
    "# # Define a function to remove the leading number, period, and space\n",
    "# def remove_number(text):\n",
    "#     # Regular expression pattern to match a number followed by a period and a space\n",
    "#     pattern = r'^\\d+\\.\\s'\n",
    "    \n",
    "#     # Use re.sub to replace the matched pattern with an empty string\n",
    "#     return re.sub(pattern, '', text)\n",
    "\n",
    "# # Apply the function to the text content column\n",
    "# df['text'] = df['text'].apply(remove_number)\n",
    "\n",
    "# # df.to_csv('data/New Data/newDataCleaned.csv', index=False)"
   ]
  },
  {
   "cell_type": "code",
   "execution_count": 6,
   "id": "696c1151-a94e-47f5-ad61-6e68a4d7ce52",
   "metadata": {},
   "outputs": [
    {
     "data": {
      "text/html": [
       "<div>\n",
       "<style scoped>\n",
       "    .dataframe tbody tr th:only-of-type {\n",
       "        vertical-align: middle;\n",
       "    }\n",
       "\n",
       "    .dataframe tbody tr th {\n",
       "        vertical-align: top;\n",
       "    }\n",
       "\n",
       "    .dataframe thead th {\n",
       "        text-align: right;\n",
       "    }\n",
       "</style>\n",
       "<table border=\"1\" class=\"dataframe\">\n",
       "  <thead>\n",
       "    <tr style=\"text-align: right;\">\n",
       "      <th></th>\n",
       "      <th>text</th>\n",
       "      <th>date</th>\n",
       "      <th>label</th>\n",
       "      <th>label_name</th>\n",
       "      <th>id</th>\n",
       "    </tr>\n",
       "  </thead>\n",
       "  <tbody>\n",
       "    <tr>\n",
       "      <th>0</th>\n",
       "      <td>{{USERNAME}} Fair enough! Honestly I can not i...</td>\n",
       "      <td>2024-04-26</td>\n",
       "      <td>2</td>\n",
       "      <td>bible</td>\n",
       "      <td>1783677542588727555</td>\n",
       "    </tr>\n",
       "    <tr>\n",
       "      <th>1</th>\n",
       "      <td>{{USERNAME}} {{USERNAME}} I hear ya. I wasn’t ...</td>\n",
       "      <td>2024-04-26</td>\n",
       "      <td>2</td>\n",
       "      <td>bible</td>\n",
       "      <td>1783677542005649587</td>\n",
       "    </tr>\n",
       "    <tr>\n",
       "      <th>2</th>\n",
       "      <td>{{USERNAME}} Holy reach #BUST</td>\n",
       "      <td>2024-04-26</td>\n",
       "      <td>2</td>\n",
       "      <td>bible</td>\n",
       "      <td>1783677527355174915</td>\n",
       "    </tr>\n",
       "    <tr>\n",
       "      <th>3</th>\n",
       "      <td>{{USERNAME}} I was out to dinner tonight and j...</td>\n",
       "      <td>2024-04-26</td>\n",
       "      <td>2</td>\n",
       "      <td>bible</td>\n",
       "      <td>1783677526901932435</td>\n",
       "    </tr>\n",
       "    <tr>\n",
       "      <th>4</th>\n",
       "      <td>{{USERNAME}} Holy shit</td>\n",
       "      <td>2024-04-26</td>\n",
       "      <td>2</td>\n",
       "      <td>bible</td>\n",
       "      <td>1783677526537064910</td>\n",
       "    </tr>\n",
       "  </tbody>\n",
       "</table>\n",
       "</div>"
      ],
      "text/plain": [
       "                                                text        date  label  \\\n",
       "0  {{USERNAME}} Fair enough! Honestly I can not i...  2024-04-26      2   \n",
       "1  {{USERNAME}} {{USERNAME}} I hear ya. I wasn’t ...  2024-04-26      2   \n",
       "2                      {{USERNAME}} Holy reach #BUST  2024-04-26      2   \n",
       "3  {{USERNAME}} I was out to dinner tonight and j...  2024-04-26      2   \n",
       "4                             {{USERNAME}} Holy shit  2024-04-26      2   \n",
       "\n",
       "  label_name                   id  \n",
       "0      bible  1783677542588727555  \n",
       "1      bible  1783677542005649587  \n",
       "2      bible  1783677527355174915  \n",
       "3      bible  1783677526901932435  \n",
       "4      bible  1783677526537064910  "
      ]
     },
     "execution_count": 6,
     "metadata": {},
     "output_type": "execute_result"
    }
   ],
   "source": [
    "df.head()"
   ]
  },
  {
   "cell_type": "code",
   "execution_count": 7,
   "id": "1ea260fe-ee53-4bd7-83c3-624aae897def",
   "metadata": {},
   "outputs": [],
   "source": [
    "dataset = load_dataset(\"cardiffnlp/tweet_topic_single\")"
   ]
  },
  {
   "cell_type": "code",
   "execution_count": 8,
   "id": "9d975400-c118-4fd9-867d-279dade9647e",
   "metadata": {},
   "outputs": [
    {
     "name": "stdout",
     "output_type": "stream",
     "text": [
      "376\n",
      "376\n",
      "352\n",
      "1128\n"
     ]
    }
   ],
   "source": [
    "dataset1 = dataset['test_2020']\n",
    "df1 = pd.DataFrame(dataset1)\n",
    "print(len(df1))\n",
    "\n",
    "dataset2 = dataset['test_2020']\n",
    "df2 = pd.DataFrame(dataset2)\n",
    "print(len(df2))\n",
    "\n",
    "dataset3 = dataset['validation_2020']\n",
    "df3 = pd.DataFrame(dataset3)\n",
    "print(len(df3))\n",
    "\n",
    "\n",
    "concatenated_df = pd.concat([df1, df2], ignore_index=True)\n",
    "concatenated_df = pd.concat([concatenated_df, df2], ignore_index=True)\n",
    "\n",
    "print(len(concatenated_df))"
   ]
  },
  {
   "cell_type": "code",
   "execution_count": 9,
   "id": "69099ffa-5273-4dae-a391-b3848c43fd8a",
   "metadata": {},
   "outputs": [
    {
     "data": {
      "text/html": [
       "<div>\n",
       "<style scoped>\n",
       "    .dataframe tbody tr th:only-of-type {\n",
       "        vertical-align: middle;\n",
       "    }\n",
       "\n",
       "    .dataframe tbody tr th {\n",
       "        vertical-align: top;\n",
       "    }\n",
       "\n",
       "    .dataframe thead th {\n",
       "        text-align: right;\n",
       "    }\n",
       "</style>\n",
       "<table border=\"1\" class=\"dataframe\">\n",
       "  <thead>\n",
       "    <tr style=\"text-align: right;\">\n",
       "      <th></th>\n",
       "      <th>text</th>\n",
       "      <th>date</th>\n",
       "      <th>label</th>\n",
       "      <th>label_name</th>\n",
       "      <th>id</th>\n",
       "    </tr>\n",
       "  </thead>\n",
       "  <tbody>\n",
       "    <tr>\n",
       "      <th>0</th>\n",
       "      <td>Game day for {{USERNAME}} U18’s against {{USER...</td>\n",
       "      <td>2019-09-08</td>\n",
       "      <td>11</td>\n",
       "      <td>Other</td>\n",
       "      <td>1170606779568463874</td>\n",
       "    </tr>\n",
       "    <tr>\n",
       "      <th>1</th>\n",
       "      <td>⚽️ This afternoon we have our first League gam...</td>\n",
       "      <td>2019-09-08</td>\n",
       "      <td>11</td>\n",
       "      <td>Other</td>\n",
       "      <td>1170607436924952576</td>\n",
       "    </tr>\n",
       "    <tr>\n",
       "      <th>2</th>\n",
       "      <td>Might watch the {@Tennessee Titans@} game only...</td>\n",
       "      <td>2019-09-08</td>\n",
       "      <td>11</td>\n",
       "      <td>Other</td>\n",
       "      <td>1170666727845376000</td>\n",
       "    </tr>\n",
       "    <tr>\n",
       "      <th>3</th>\n",
       "      <td>. {@Asante Kotoko SC@} should have moved for t...</td>\n",
       "      <td>2019-09-08</td>\n",
       "      <td>11</td>\n",
       "      <td>Other</td>\n",
       "      <td>1170728379290673154</td>\n",
       "    </tr>\n",
       "    <tr>\n",
       "      <th>4</th>\n",
       "      <td>Massive WELL DONE to BSLFC Reserves today in t...</td>\n",
       "      <td>2019-09-08</td>\n",
       "      <td>11</td>\n",
       "      <td>Other</td>\n",
       "      <td>1170788768690970624</td>\n",
       "    </tr>\n",
       "  </tbody>\n",
       "</table>\n",
       "</div>"
      ],
      "text/plain": [
       "                                                text        date  label  \\\n",
       "0  Game day for {{USERNAME}} U18’s against {{USER...  2019-09-08     11   \n",
       "1  ⚽️ This afternoon we have our first League gam...  2019-09-08     11   \n",
       "2  Might watch the {@Tennessee Titans@} game only...  2019-09-08     11   \n",
       "3  . {@Asante Kotoko SC@} should have moved for t...  2019-09-08     11   \n",
       "4  Massive WELL DONE to BSLFC Reserves today in t...  2019-09-08     11   \n",
       "\n",
       "  label_name                   id  \n",
       "0      Other  1170606779568463874  \n",
       "1      Other  1170607436924952576  \n",
       "2      Other  1170666727845376000  \n",
       "3      Other  1170728379290673154  \n",
       "4      Other  1170788768690970624  "
      ]
     },
     "execution_count": 9,
     "metadata": {},
     "output_type": "execute_result"
    }
   ],
   "source": [
    "concatenated_df['label'] = 11\n",
    "concatenated_df['label_name'] = 'Other'\n",
    "\n",
    "concatenated_df.head()"
   ]
  },
  {
   "cell_type": "code",
   "execution_count": 10,
   "id": "945a6132-e683-4c33-871e-89e9b0331dd4",
   "metadata": {},
   "outputs": [
    {
     "name": "stdout",
     "output_type": "stream",
     "text": [
      "10198\n"
     ]
    }
   ],
   "source": [
    "combined_df = pd.concat([df, concatenated_df], ignore_index=True)\n",
    "print(len(combined_df))"
   ]
  },
  {
   "cell_type": "code",
   "execution_count": 11,
   "id": "303838c7-ca69-4824-8212-1245e0373f19",
   "metadata": {},
   "outputs": [],
   "source": [
    "# combined_df = df.copy()\n",
    "combined_df.dropna(inplace=True)"
   ]
  },
  {
   "cell_type": "code",
   "execution_count": 12,
   "id": "74536493-d41a-4e25-b514-fc6de721d041",
   "metadata": {},
   "outputs": [
    {
     "data": {
      "text/plain": [
       "array(['bible', 'current_events', 'fellowship', 'Jerusalem', 'Jesus',\n",
       "       'Kingdom', 'prayer', 'prophesy', 'salvation', 'worship', 'Other'],\n",
       "      dtype=object)"
      ]
     },
     "execution_count": 12,
     "metadata": {},
     "output_type": "execute_result"
    }
   ],
   "source": [
    "combined_df['label_name'].unique()"
   ]
  },
  {
   "cell_type": "code",
   "execution_count": 13,
   "id": "877e83e4-0f2a-483e-b73c-51cea701a188",
   "metadata": {},
   "outputs": [
    {
     "data": {
      "text/plain": [
       "['bible',\n",
       " 'current_events',\n",
       " 'fellowship',\n",
       " 'Jerusalem',\n",
       " 'Jesus',\n",
       " 'Kingdom',\n",
       " 'prayer',\n",
       " 'prophesy',\n",
       " 'salvation',\n",
       " 'worship',\n",
       " 'Other']"
      ]
     },
     "execution_count": 13,
     "metadata": {},
     "output_type": "execute_result"
    }
   ],
   "source": [
    "labels = combined_df['label_name'].unique().tolist()\n",
    "labels = [s.strip() for s in labels ]\n",
    "labels"
   ]
  },
  {
   "cell_type": "code",
   "execution_count": 14,
   "id": "06c56951-df40-4920-b86b-41f0c1a552ab",
   "metadata": {},
   "outputs": [
    {
     "data": {
      "text/html": [
       "<div>\n",
       "<style scoped>\n",
       "    .dataframe tbody tr th:only-of-type {\n",
       "        vertical-align: middle;\n",
       "    }\n",
       "\n",
       "    .dataframe tbody tr th {\n",
       "        vertical-align: top;\n",
       "    }\n",
       "\n",
       "    .dataframe thead th {\n",
       "        text-align: right;\n",
       "    }\n",
       "</style>\n",
       "<table border=\"1\" class=\"dataframe\">\n",
       "  <thead>\n",
       "    <tr style=\"text-align: right;\">\n",
       "      <th></th>\n",
       "      <th>text</th>\n",
       "      <th>date</th>\n",
       "      <th>label_name</th>\n",
       "      <th>id</th>\n",
       "    </tr>\n",
       "  </thead>\n",
       "  <tbody>\n",
       "    <tr>\n",
       "      <th>0</th>\n",
       "      <td>{{USERNAME}} Fair enough! Honestly I can not i...</td>\n",
       "      <td>2024-04-26</td>\n",
       "      <td>bible</td>\n",
       "      <td>1783677542588727555</td>\n",
       "    </tr>\n",
       "    <tr>\n",
       "      <th>1</th>\n",
       "      <td>{{USERNAME}} {{USERNAME}} I hear ya. I wasn’t ...</td>\n",
       "      <td>2024-04-26</td>\n",
       "      <td>bible</td>\n",
       "      <td>1783677542005649587</td>\n",
       "    </tr>\n",
       "    <tr>\n",
       "      <th>2</th>\n",
       "      <td>{{USERNAME}} Holy reach #BUST</td>\n",
       "      <td>2024-04-26</td>\n",
       "      <td>bible</td>\n",
       "      <td>1783677527355174915</td>\n",
       "    </tr>\n",
       "    <tr>\n",
       "      <th>3</th>\n",
       "      <td>{{USERNAME}} I was out to dinner tonight and j...</td>\n",
       "      <td>2024-04-26</td>\n",
       "      <td>bible</td>\n",
       "      <td>1783677526901932435</td>\n",
       "    </tr>\n",
       "    <tr>\n",
       "      <th>4</th>\n",
       "      <td>{{USERNAME}} Holy shit</td>\n",
       "      <td>2024-04-26</td>\n",
       "      <td>bible</td>\n",
       "      <td>1783677526537064910</td>\n",
       "    </tr>\n",
       "  </tbody>\n",
       "</table>\n",
       "</div>"
      ],
      "text/plain": [
       "                                                text        date label_name  \\\n",
       "0  {{USERNAME}} Fair enough! Honestly I can not i...  2024-04-26      bible   \n",
       "1  {{USERNAME}} {{USERNAME}} I hear ya. I wasn’t ...  2024-04-26      bible   \n",
       "2                      {{USERNAME}} Holy reach #BUST  2024-04-26      bible   \n",
       "3  {{USERNAME}} I was out to dinner tonight and j...  2024-04-26      bible   \n",
       "4                             {{USERNAME}} Holy shit  2024-04-26      bible   \n",
       "\n",
       "                    id  \n",
       "0  1783677542588727555  \n",
       "1  1783677542005649587  \n",
       "2  1783677527355174915  \n",
       "3  1783677526901932435  \n",
       "4  1783677526537064910  "
      ]
     },
     "execution_count": 14,
     "metadata": {},
     "output_type": "execute_result"
    }
   ],
   "source": [
    "combined_df = combined_df.drop(['label'], axis=1)\n",
    "combined_df.head()"
   ]
  },
  {
   "cell_type": "code",
   "execution_count": 15,
   "id": "a2ad75f1-6511-4ca8-82b8-61b5963f8790",
   "metadata": {},
   "outputs": [],
   "source": [
    "NUM_LABELS= len(labels)\n",
    "\n",
    "id2label={id:label for id,label in enumerate(labels)}\n",
    "\n",
    "label2id={label:id for id,label in enumerate(labels)}"
   ]
  },
  {
   "cell_type": "code",
   "execution_count": 16,
   "id": "87829d80-e872-467e-a48b-aaeff9cfb3cf",
   "metadata": {},
   "outputs": [
    {
     "data": {
      "text/plain": [
       "{'bible': 0,\n",
       " 'current_events': 1,\n",
       " 'fellowship': 2,\n",
       " 'Jerusalem': 3,\n",
       " 'Jesus': 4,\n",
       " 'Kingdom': 5,\n",
       " 'prayer': 6,\n",
       " 'prophesy': 7,\n",
       " 'salvation': 8,\n",
       " 'worship': 9,\n",
       " 'Other': 10}"
      ]
     },
     "execution_count": 16,
     "metadata": {},
     "output_type": "execute_result"
    }
   ],
   "source": [
    "label2id"
   ]
  },
  {
   "cell_type": "code",
   "execution_count": 17,
   "id": "d58caa18-a84a-412f-aae2-ecd75b17c6bc",
   "metadata": {},
   "outputs": [
    {
     "data": {
      "text/plain": [
       "{0: 'bible',\n",
       " 1: 'current_events',\n",
       " 2: 'fellowship',\n",
       " 3: 'Jerusalem',\n",
       " 4: 'Jesus',\n",
       " 5: 'Kingdom',\n",
       " 6: 'prayer',\n",
       " 7: 'prophesy',\n",
       " 8: 'salvation',\n",
       " 9: 'worship',\n",
       " 10: 'Other'}"
      ]
     },
     "execution_count": 17,
     "metadata": {},
     "output_type": "execute_result"
    }
   ],
   "source": [
    "id2label"
   ]
  },
  {
   "cell_type": "code",
   "execution_count": 18,
   "id": "57075ac2-70e4-4219-9b5b-4d7137904b48",
   "metadata": {},
   "outputs": [],
   "source": [
    "combined_df[\"labels\"]=combined_df.label_name.map(lambda x: label2id[x.strip()])"
   ]
  },
  {
   "cell_type": "code",
   "execution_count": 19,
   "id": "64508642-0479-437e-966f-597bb3c8e54a",
   "metadata": {},
   "outputs": [
    {
     "data": {
      "text/html": [
       "<div>\n",
       "<style scoped>\n",
       "    .dataframe tbody tr th:only-of-type {\n",
       "        vertical-align: middle;\n",
       "    }\n",
       "\n",
       "    .dataframe tbody tr th {\n",
       "        vertical-align: top;\n",
       "    }\n",
       "\n",
       "    .dataframe thead th {\n",
       "        text-align: right;\n",
       "    }\n",
       "</style>\n",
       "<table border=\"1\" class=\"dataframe\">\n",
       "  <thead>\n",
       "    <tr style=\"text-align: right;\">\n",
       "      <th></th>\n",
       "      <th>text</th>\n",
       "      <th>date</th>\n",
       "      <th>label_name</th>\n",
       "      <th>id</th>\n",
       "      <th>labels</th>\n",
       "    </tr>\n",
       "  </thead>\n",
       "  <tbody>\n",
       "    <tr>\n",
       "      <th>0</th>\n",
       "      <td>{{USERNAME}} Fair enough! Honestly I can not i...</td>\n",
       "      <td>2024-04-26</td>\n",
       "      <td>bible</td>\n",
       "      <td>1783677542588727555</td>\n",
       "      <td>0</td>\n",
       "    </tr>\n",
       "    <tr>\n",
       "      <th>1</th>\n",
       "      <td>{{USERNAME}} {{USERNAME}} I hear ya. I wasn’t ...</td>\n",
       "      <td>2024-04-26</td>\n",
       "      <td>bible</td>\n",
       "      <td>1783677542005649587</td>\n",
       "      <td>0</td>\n",
       "    </tr>\n",
       "    <tr>\n",
       "      <th>2</th>\n",
       "      <td>{{USERNAME}} Holy reach #BUST</td>\n",
       "      <td>2024-04-26</td>\n",
       "      <td>bible</td>\n",
       "      <td>1783677527355174915</td>\n",
       "      <td>0</td>\n",
       "    </tr>\n",
       "    <tr>\n",
       "      <th>3</th>\n",
       "      <td>{{USERNAME}} I was out to dinner tonight and j...</td>\n",
       "      <td>2024-04-26</td>\n",
       "      <td>bible</td>\n",
       "      <td>1783677526901932435</td>\n",
       "      <td>0</td>\n",
       "    </tr>\n",
       "    <tr>\n",
       "      <th>4</th>\n",
       "      <td>{{USERNAME}} Holy shit</td>\n",
       "      <td>2024-04-26</td>\n",
       "      <td>bible</td>\n",
       "      <td>1783677526537064910</td>\n",
       "      <td>0</td>\n",
       "    </tr>\n",
       "  </tbody>\n",
       "</table>\n",
       "</div>"
      ],
      "text/plain": [
       "                                                text        date label_name  \\\n",
       "0  {{USERNAME}} Fair enough! Honestly I can not i...  2024-04-26      bible   \n",
       "1  {{USERNAME}} {{USERNAME}} I hear ya. I wasn’t ...  2024-04-26      bible   \n",
       "2                      {{USERNAME}} Holy reach #BUST  2024-04-26      bible   \n",
       "3  {{USERNAME}} I was out to dinner tonight and j...  2024-04-26      bible   \n",
       "4                             {{USERNAME}} Holy shit  2024-04-26      bible   \n",
       "\n",
       "                    id  labels  \n",
       "0  1783677542588727555       0  \n",
       "1  1783677542005649587       0  \n",
       "2  1783677527355174915       0  \n",
       "3  1783677526901932435       0  \n",
       "4  1783677526537064910       0  "
      ]
     },
     "execution_count": 19,
     "metadata": {},
     "output_type": "execute_result"
    }
   ],
   "source": [
    "combined_df.head()"
   ]
  },
  {
   "cell_type": "code",
   "execution_count": 20,
   "id": "f7e242b6-6adf-4a6b-9e54-c83a0360f04a",
   "metadata": {},
   "outputs": [
    {
     "data": {
      "image/png": "[encoded data removed]",
      "text/plain": [
       "<Figure size 1000x1000 with 1 Axes>"
      ]
     },
     "metadata": {},
     "output_type": "display_data"
    }
   ],
   "source": [
    "import matplotlib.pyplot as plt\n",
    "\n",
    "counts = combined_df.label_name.value_counts()\n",
    "plt.figure(figsize=(10, 10))\n",
    "plt.pie(counts, labels=counts.index, autopct=lambda p: '{:.0f}'.format(p * sum(counts) / 100))\n",
    "plt.show()"
   ]
  },
  {
   "cell_type": "code",
   "execution_count": 21,
   "id": "6815760d-e386-4e50-8da5-3041eb0a793c",
   "metadata": {},
   "outputs": [
    {
     "name": "stderr",
     "output_type": "stream",
     "text": [
      "Some weights of BertForSequenceClassification were not initialized from the model checkpoint at nlptown/bert-base-multilingual-uncased-sentiment and are newly initialized because the shapes did not match:\n",
      "- classifier.weight: found shape torch.Size([5, 768]) in the checkpoint and torch.Size([11, 768]) in the model instantiated\n",
      "- classifier.bias: found shape torch.Size([5]) in the checkpoint and torch.Size([11]) in the model instantiated\n",
      "You should probably TRAIN this model on a down-stream task to be able to use it for predictions and inference.\n"
     ]
    },
    {
     "data": {
      "text/plain": [
       "BertForSequenceClassification(\n",
       "  (bert): BertModel(\n",
       "    (embeddings): BertEmbeddings(\n",
       "      (word_embeddings): Embedding(105879, 768, padding_idx=0)\n",
       "      (position_embeddings): Embedding(512, 768)\n",
       "      (token_type_embeddings): Embedding(2, 768)\n",
       "      (LayerNorm): LayerNorm((768,), eps=1e-12, elementwise_affine=True)\n",
       "      (dropout): Dropout(p=0.1, inplace=False)\n",
       "    )\n",
       "    (encoder): BertEncoder(\n",
       "      (layer): ModuleList(\n",
       "        (0-11): 12 x BertLayer(\n",
       "          (attention): BertAttention(\n",
       "            (self): BertSelfAttention(\n",
       "              (query): Linear(in_features=768, out_features=768, bias=True)\n",
       "              (key): Linear(in_features=768, out_features=768, bias=True)\n",
       "              (value): Linear(in_features=768, out_features=768, bias=True)\n",
       "              (dropout): Dropout(p=0.1, inplace=False)\n",
       "            )\n",
       "            (output): BertSelfOutput(\n",
       "              (dense): Linear(in_features=768, out_features=768, bias=True)\n",
       "              (LayerNorm): LayerNorm((768,), eps=1e-12, elementwise_affine=True)\n",
       "              (dropout): Dropout(p=0.1, inplace=False)\n",
       "            )\n",
       "          )\n",
       "          (intermediate): BertIntermediate(\n",
       "            (dense): Linear(in_features=768, out_features=3072, bias=True)\n",
       "            (intermediate_act_fn): GELUActivation()\n",
       "          )\n",
       "          (output): BertOutput(\n",
       "            (dense): Linear(in_features=3072, out_features=768, bias=True)\n",
       "            (LayerNorm): LayerNorm((768,), eps=1e-12, elementwise_affine=True)\n",
       "            (dropout): Dropout(p=0.1, inplace=False)\n",
       "          )\n",
       "        )\n",
       "      )\n",
       "    )\n",
       "    (pooler): BertPooler(\n",
       "      (dense): Linear(in_features=768, out_features=768, bias=True)\n",
       "      (activation): Tanh()\n",
       "    )\n",
       "  )\n",
       "  (dropout): Dropout(p=0.1, inplace=False)\n",
       "  (classifier): Linear(in_features=768, out_features=11, bias=True)\n",
       ")"
      ]
     },
     "execution_count": 21,
     "metadata": {},
     "output_type": "execute_result"
    }
   ],
   "source": [
    "checkpoint = \"nlptown/bert-base-multilingual-uncased-sentiment\"\n",
    "\n",
    "tokenizer = BertTokenizerFast.from_pretrained(checkpoint, max_length=512, ignore_mismatched_sizes=True)\n",
    "\n",
    "model = BertForSequenceClassification.from_pretrained(checkpoint, num_labels=NUM_LABELS, id2label=id2label, label2id=label2id, ignore_mismatched_sizes=True)\n",
    "model.to(device)"
   ]
  },
  {
   "cell_type": "code",
   "execution_count": 22,
   "id": "38fcbe45-2f2c-4d0f-9243-723c9fdbbd10",
   "metadata": {},
   "outputs": [],
   "source": [
    "combined_df = combined_df.sample(frac=1, random_state=42) "
   ]
  },
  {
   "cell_type": "code",
   "execution_count": 23,
   "id": "e1cf4d05-95c0-4219-a959-cdd809b13eda",
   "metadata": {},
   "outputs": [
    {
     "data": {
      "text/plain": [
       "10198"
      ]
     },
     "execution_count": 23,
     "metadata": {},
     "output_type": "execute_result"
    }
   ],
   "source": [
    "combined_df.shape[0]"
   ]
  },
  {
   "cell_type": "code",
   "execution_count": 24,
   "id": "2b1d9e02-57e4-4c19-8d7c-07e504a60684",
   "metadata": {},
   "outputs": [],
   "source": [
    "SIZE = combined_df.shape[0]\n",
    "\n",
    "train_texts = list(combined_df.text[:SIZE//2])\n",
    "\n",
    "val_texts =   list(combined_df.text[SIZE//2:(3*SIZE)//4])\n",
    "\n",
    "test_texts =  list(combined_df.text[(3*SIZE)//4:])\n",
    "\n",
    "train_labels = list(combined_df.labels[:SIZE//2])\n",
    "\n",
    "val_labels =   list(combined_df.labels[SIZE//2:(3*SIZE)//4])\n",
    "\n",
    "test_labels =  list(combined_df.labels[(3*SIZE)//4:])"
   ]
  },
  {
   "cell_type": "code",
   "execution_count": 25,
   "id": "75ee3781-adff-4e30-9d07-fbb2c43a064b",
   "metadata": {},
   "outputs": [
    {
     "data": {
      "text/plain": [
       "(5099, 2549, 2550)"
      ]
     },
     "execution_count": 25,
     "metadata": {},
     "output_type": "execute_result"
    }
   ],
   "source": [
    "len(train_texts), len(val_texts), len(test_texts)"
   ]
  },
  {
   "cell_type": "code",
   "execution_count": 26,
   "id": "124f2f93-7ed1-479e-ad23-a5ab3c0571c9",
   "metadata": {},
   "outputs": [],
   "source": [
    "train_encodings = tokenizer(train_texts, truncation=True, padding=True)\n",
    "val_encodings  = tokenizer(val_texts, truncation=True, padding=True)\n",
    "test_encodings = tokenizer(test_texts, truncation=True, padding=True)"
   ]
  },
  {
   "cell_type": "code",
   "execution_count": 27,
   "id": "0def3a8b-ac48-47eb-b622-0af392b9a690",
   "metadata": {},
   "outputs": [],
   "source": [
    "class DataLoader(Dataset):\n",
    "    \"\"\"\n",
    "    Custom Dataset class for handling tokenized text data and corresponding labels.\n",
    "    Inherits from torch.utils.data.Dataset.\n",
    "    \"\"\"\n",
    "    def __init__(self, encodings, labels):\n",
    "        \"\"\"\n",
    "        Initializes the DataLoader class with encodings and labels.\n",
    "\n",
    "        Args:\n",
    "            encodings (dict): A dictionary containing tokenized input text data\n",
    "                              (e.g., 'input_ids', 'token_type_ids', 'attention_mask').\n",
    "            labels (list): A list of integer labels for the input text data.\n",
    "        \"\"\"\n",
    "        self.encodings = encodings\n",
    "        self.labels = labels\n",
    "\n",
    "    def __getitem__(self, idx):\n",
    "        \"\"\"\n",
    "        Returns a dictionary containing tokenized data and the corresponding label for a given index.\n",
    "\n",
    "        Args:\n",
    "            idx (int): The index of the data item to retrieve.\n",
    "\n",
    "        Returns:\n",
    "            item (dict): A dictionary containing the tokenized data and the corresponding label.\n",
    "        \"\"\"\n",
    "        # Retrieve tokenized data for the given index\n",
    "        item = {key: torch.tensor(val[idx]) for key, val in self.encodings.items()}\n",
    "        # Add the label for the given index to the item dictionary\n",
    "        item['labels'] = torch.tensor(self.labels[idx])\n",
    "        return item\n",
    "\n",
    "    def __len__(self):\n",
    "        \"\"\"\n",
    "        Returns the number of data items in the dataset.\n",
    "\n",
    "        Returns:\n",
    "            (int): The number of data items in the dataset.\n",
    "        \"\"\"\n",
    "        return len(self.labels)"
   ]
  },
  {
   "cell_type": "code",
   "execution_count": 28,
   "id": "75a4e3c1-d614-4c16-b1f6-57f01e3fb33f",
   "metadata": {},
   "outputs": [],
   "source": [
    "train_dataloader = DataLoader(train_encodings, train_labels)\n",
    "\n",
    "val_dataloader = DataLoader(val_encodings, val_labels)\n",
    "\n",
    "test_dataset = DataLoader(test_encodings, test_labels)"
   ]
  },
  {
   "cell_type": "code",
   "execution_count": 29,
   "id": "1c84f4f5-ca2e-4404-bb22-c1056b5bf6bd",
   "metadata": {},
   "outputs": [],
   "source": [
    "from transformers import TrainingArguments, Trainer"
   ]
  },
  {
   "cell_type": "code",
   "execution_count": 30,
   "id": "a2a64d7e-9daf-4402-bf11-77d0c8c75809",
   "metadata": {},
   "outputs": [],
   "source": [
    "from sklearn.metrics import accuracy_score, precision_recall_fscore_support\n",
    "\n",
    "def compute_metrics(pred):\n",
    "    \"\"\"\n",
    "    Computes accuracy, F1, precision, and recall for a given set of predictions.\n",
    "    \n",
    "    Args:\n",
    "        pred (obj): An object containing label_ids and predictions attributes.\n",
    "            - label_ids (array-like): A 1D array of true class labels.\n",
    "            - predictions (array-like): A 2D array where each row represents\n",
    "              an observation, and each column represents the probability of \n",
    "              that observation belonging to a certain class.\n",
    "              \n",
    "    Returns:\n",
    "        dict: A dictionary containing the following metrics:\n",
    "            - Accuracy (float): The proportion of correctly classified instances.\n",
    "            - F1 (float): The macro F1 score, which is the harmonic mean of precision\n",
    "              and recall. Macro averaging calculates the metric independently for\n",
    "              each class and then takes the average.\n",
    "            - Precision (float): The macro precision, which is the number of true\n",
    "              positives divided by the sum of true positives and false positives.\n",
    "            - Recall (float): The macro recall, which is the number of true positives\n",
    "              divided by the sum of true positives and false negatives.\n",
    "    \"\"\"\n",
    "    # Extract true labels from the input object\n",
    "    labels = pred.label_ids\n",
    "    \n",
    "    # Obtain predicted class labels by finding the column index with the maximum probability\n",
    "    preds = pred.predictions.argmax(-1)\n",
    "    \n",
    "    # Compute macro precision, recall, and F1 score using sklearn's precision_recall_fscore_support function\n",
    "    precision, recall, f1, _ = precision_recall_fscore_support(labels, preds, average='macro')\n",
    "    \n",
    "    # Calculate the accuracy score using sklearn's accuracy_score function\n",
    "    acc = accuracy_score(labels, preds)\n",
    "    \n",
    "    # Return the computed metrics as a dictionary\n",
    "    return {\n",
    "        'Accuracy': acc,\n",
    "        'F1': f1,\n",
    "        'Precision': precision,\n",
    "        'Recall': recall\n",
    "    }"
   ]
  },
  {
   "cell_type": "code",
   "execution_count": 31,
   "id": "9fc00440-a9d1-46fb-8168-2efed6fbf7f5",
   "metadata": {},
   "outputs": [],
   "source": [
    "training_args = TrainingArguments(\n",
    "    output_dir='./TTC-Model', \n",
    "    do_train=True,\n",
    "    do_eval=True,\n",
    "    num_train_epochs=3,              \n",
    "    per_device_train_batch_size=16,  \n",
    "    per_device_eval_batch_size=32,\n",
    "    warmup_steps=200,                \n",
    "    weight_decay=0.01,\n",
    "    logging_strategy='steps',               \n",
    "    logging_dir='./multi-class-logs',            \n",
    "    logging_steps=300,\n",
    "    evaluation_strategy=\"steps\",\n",
    "    eval_steps=300,\n",
    "    save_steps=300,\n",
    "    save_strategy=\"steps\", \n",
    "    fp16=True,\n",
    "    load_best_model_at_end=True\n",
    ")"
   ]
  },
  {
   "cell_type": "code",
   "execution_count": 32,
   "id": "ef7a3a36-f795-46f6-9dc0-f4bb301b2841",
   "metadata": {},
   "outputs": [],
   "source": [
    "from transformers import EarlyStoppingCallback\n",
    "early_stopping = EarlyStoppingCallback(early_stopping_patience=3)\n",
    "\n",
    "\n",
    "trainer = Trainer(\n",
    "    model=model,                      \n",
    "    args=training_args,                 \n",
    "    train_dataset=train_dataloader,         \n",
    "    eval_dataset=val_dataloader,            \n",
    "    compute_metrics= compute_metrics,\n",
    "    callbacks=[early_stopping]\n",
    ")"
   ]
  },
  {
   "cell_type": "code",
   "execution_count": 33,
   "id": "a0703ccd-3da3-4e12-87ec-a85612082eca",
   "metadata": {},
   "outputs": [
    {
     "data": {
      "text/html": [
       "\n",
       "    <div>\n",
       "      \n",
       "      <progress value='957' max='957' style='width:300px; height:20px; vertical-align: middle;'></progress>\n",
       "      [957/957 07:02, Epoch 3/3]\n",
       "    </div>\n",
       "    <table border=\"1\" class=\"dataframe\">\n",
       "  <thead>\n",
       " <tr style=\"text-align: left;\">\n",
       "      <th>Step</th>\n",
       "      <th>Training Loss</th>\n",
       "      <th>Validation Loss</th>\n",
       "      <th>Accuracy</th>\n",
       "      <th>F1</th>\n",
       "      <th>Precision</th>\n",
       "      <th>Recall</th>\n",
       "    </tr>\n",
       "  </thead>\n",
       "  <tbody>\n",
       "    <tr>\n",
       "      <td>300</td>\n",
       "      <td>1.248600</td>\n",
       "      <td>0.324081</td>\n",
       "      <td>0.919969</td>\n",
       "      <td>0.916378</td>\n",
       "      <td>0.918366</td>\n",
       "      <td>0.915401</td>\n",
       "    </tr>\n",
       "    <tr>\n",
       "      <td>600</td>\n",
       "      <td>0.290800</td>\n",
       "      <td>0.247139</td>\n",
       "      <td>0.939192</td>\n",
       "      <td>0.936967</td>\n",
       "      <td>0.940983</td>\n",
       "      <td>0.934557</td>\n",
       "    </tr>\n",
       "    <tr>\n",
       "      <td>900</td>\n",
       "      <td>0.198500</td>\n",
       "      <td>0.227026</td>\n",
       "      <td>0.941153</td>\n",
       "      <td>0.937770</td>\n",
       "      <td>0.939294</td>\n",
       "      <td>0.937674</td>\n",
       "    </tr>\n",
       "  </tbody>\n",
       "</table><p>"
      ],
      "text/plain": [
       "<IPython.core.display.HTML object>"
      ]
     },
     "metadata": {},
     "output_type": "display_data"
    },
    {
     "data": {
      "text/plain": [
       "TrainOutput(global_step=957, training_loss=0.5582369193512569, metrics={'train_runtime': 423.5312, 'train_samples_per_second': 36.118, 'train_steps_per_second': 2.26, 'total_flos': 2845896264499284.0, 'train_loss': 0.5582369193512569, 'epoch': 3.0})"
      ]
     },
     "execution_count": 33,
     "metadata": {},
     "output_type": "execute_result"
    }
   ],
   "source": [
    "trainer.train()"
   ]
  },
  {
   "cell_type": "code",
   "execution_count": 34,
   "id": "7ee1dfee-2fd5-48c1-bd79-fc923e8b6664",
   "metadata": {},
   "outputs": [
    {
     "data": {
      "text/html": [
       "\n",
       "    <div>\n",
       "      \n",
       "      <progress value='320' max='160' style='width:300px; height:20px; vertical-align: middle;'></progress>\n",
       "      [160/160 01:10]\n",
       "    </div>\n",
       "    "
      ],
      "text/plain": [
       "<IPython.core.display.HTML object>"
      ]
     },
     "metadata": {},
     "output_type": "display_data"
    },
    {
     "data": {
      "text/html": [
       "<div>\n",
       "<style scoped>\n",
       "    .dataframe tbody tr th:only-of-type {\n",
       "        vertical-align: middle;\n",
       "    }\n",
       "\n",
       "    .dataframe tbody tr th {\n",
       "        vertical-align: top;\n",
       "    }\n",
       "\n",
       "    .dataframe thead th {\n",
       "        text-align: right;\n",
       "    }\n",
       "</style>\n",
       "<table border=\"1\" class=\"dataframe\">\n",
       "  <thead>\n",
       "    <tr style=\"text-align: right;\">\n",
       "      <th></th>\n",
       "      <th>eval_loss</th>\n",
       "      <th>eval_Accuracy</th>\n",
       "      <th>eval_F1</th>\n",
       "      <th>eval_Precision</th>\n",
       "      <th>eval_Recall</th>\n",
       "    </tr>\n",
       "  </thead>\n",
       "  <tbody>\n",
       "    <tr>\n",
       "      <th>train</th>\n",
       "      <td>0.135529</td>\n",
       "      <td>0.963718</td>\n",
       "      <td>0.961259</td>\n",
       "      <td>0.962097</td>\n",
       "      <td>0.961386</td>\n",
       "    </tr>\n",
       "    <tr>\n",
       "      <th>val</th>\n",
       "      <td>0.227026</td>\n",
       "      <td>0.941153</td>\n",
       "      <td>0.937770</td>\n",
       "      <td>0.939294</td>\n",
       "      <td>0.937674</td>\n",
       "    </tr>\n",
       "    <tr>\n",
       "      <th>test</th>\n",
       "      <td>0.243633</td>\n",
       "      <td>0.944706</td>\n",
       "      <td>0.941660</td>\n",
       "      <td>0.943038</td>\n",
       "      <td>0.941081</td>\n",
       "    </tr>\n",
       "  </tbody>\n",
       "</table>\n",
       "</div>"
      ],
      "text/plain": [
       "       eval_loss  eval_Accuracy   eval_F1  eval_Precision  eval_Recall\n",
       "train   0.135529       0.963718  0.961259        0.962097     0.961386\n",
       "val     0.227026       0.941153  0.937770        0.939294     0.937674\n",
       "test    0.243633       0.944706  0.941660        0.943038     0.941081"
      ]
     },
     "execution_count": 34,
     "metadata": {},
     "output_type": "execute_result"
    }
   ],
   "source": [
    "q=[trainer.evaluate(eval_dataset=df) for df in [train_dataloader, val_dataloader, test_dataset]]\n",
    "\n",
    "pd.DataFrame(q, index=[\"train\",\"val\",\"test\"]).iloc[:,:5]"
   ]
  },
  {
   "cell_type": "code",
   "execution_count": 35,
   "id": "3ed6ca2b-bc8d-4b3c-80e3-68ed9e4fcd2c",
   "metadata": {},
   "outputs": [],
   "source": [
    "from transformers import DistilBertForSequenceClassification, DistilBertTokenizerFast"
   ]
  },
  {
   "cell_type": "code",
   "execution_count": 36,
   "id": "d2679cfe-371f-4cf4-98a8-55fba27bbb8a",
   "metadata": {},
   "outputs": [],
   "source": [
    "def predict(text):\n",
    "    \"\"\"\n",
    "    Predicts the class label for a given input text\n",
    "\n",
    "    Args:\n",
    "        text (str): The input text for which the class label needs to be predicted.\n",
    "\n",
    "    Returns:\n",
    "        probs (torch.Tensor): Class probabilities for the input text.\n",
    "        pred_label_idx (torch.Tensor): The index of the predicted class label.\n",
    "        pred_label (str): The predicted class label.\n",
    "    \"\"\"\n",
    "    # Tokenize the input text and move tensors to the GPU if available\n",
    "    inputs = tokenizer(text, padding=True, truncation=True, max_length=512, return_tensors=\"pt\").to(\"cuda\")\n",
    "\n",
    "    # Get model output (logits)\n",
    "    outputs = model(**inputs)\n",
    "\n",
    "    probs = outputs[0].softmax(1)\n",
    "    \"\"\" Explanation outputs: The BERT model returns a tuple containing the output logits (and possibly other elements depending on the model configuration). In this case, the output logits are the first element in the tuple, which is why we access it using outputs[0].\n",
    "\n",
    "    outputs[0]: This is a tensor containing the raw output logits for each class. The shape of the tensor is (batch_size, num_classes) where batch_size is the number of input samples (in this case, 1, as we are predicting for a single input text) and num_classes is the number of target classes.\n",
    "\n",
    "    softmax(1): The softmax function is applied along dimension 1 (the class dimension) to convert the raw logits into class probabilities. Softmax normalizes the logits so that they sum to 1, making them interpretable as probabilities. \"\"\"\n",
    "\n",
    "    # Get the index of the class with the highest probability\n",
    "    # argmax() finds the index of the maximum value in the tensor along a specified dimension.\n",
    "    # By default, if no dimension is specified, it returns the index of the maximum value in the flattened tensor.\n",
    "    pred_label_idx = probs.argmax()\n",
    "\n",
    "    # Now map the predicted class index to the actual class label \n",
    "    # Since pred_label_idx is a tensor containing a single value (the predicted class index), \n",
    "    # the .item() method is used to extract the value as a scalar\n",
    "    pred_label = model.config.id2label[pred_label_idx.item()]\n",
    "\n",
    "    return pred_label"
   ]
  },
  {
   "cell_type": "code",
   "execution_count": 37,
   "id": "bd353f87-ec4c-43fa-8090-e281fdd0627b",
   "metadata": {},
   "outputs": [
    {
     "data": {
      "text/plain": [
       "'Other'"
      ]
     },
     "execution_count": 37,
     "metadata": {},
     "output_type": "execute_result"
    }
   ],
   "source": [
    "# Test model\n",
    "text = \"Machine Learning and automation is awesome!!\"\n",
    "\n",
    "predict(text)"
   ]
  },
  {
   "cell_type": "code",
   "execution_count": 38,
   "id": "e01c921a-b75e-4962-856f-48bb5230d56b",
   "metadata": {},
   "outputs": [
    {
     "data": {
      "text/plain": [
       "'Jesus'"
      ]
     },
     "execution_count": 38,
     "metadata": {},
     "output_type": "execute_result"
    }
   ],
   "source": [
    "# Test model\n",
    "text = \"Jesus is amazing!!\"\n",
    "\n",
    "predict(text)"
   ]
  },
  {
   "cell_type": "code",
   "execution_count": 39,
   "id": "0d733221-288c-4d91-94d3-a75cadeeb1f2",
   "metadata": {},
   "outputs": [
    {
     "data": {
      "text/plain": [
       "'Other'"
      ]
     },
     "execution_count": 39,
     "metadata": {},
     "output_type": "execute_result"
    }
   ],
   "source": [
    "# Test model\n",
    "text = \"How is your day going?\"\n",
    "\n",
    "predict(text)"
   ]
  },
  {
   "cell_type": "code",
   "execution_count": 40,
   "id": "f190070c-580a-471d-8721-8da327fdad63",
   "metadata": {},
   "outputs": [
    {
     "data": {
      "text/plain": [
       "'worship'"
      ]
     },
     "execution_count": 40,
     "metadata": {},
     "output_type": "execute_result"
    }
   ],
   "source": [
    "# Test model\n",
    "text = \"Praise the Lord!\"\n",
    "\n",
    "predict(text)"
   ]
  },
  {
   "cell_type": "code",
   "execution_count": 42,
   "id": "8d9ace99-1dfa-4ec0-b9a4-451ac8690890",
   "metadata": {},
   "outputs": [
    {
     "data": {
      "text/plain": [
       "'bible'"
      ]
     },
     "execution_count": 42,
     "metadata": {},
     "output_type": "execute_result"
    }
   ],
   "source": [
    "# Test model\n",
    "text = \"Holy Bible\"\n",
    "\n",
    "predict(text)"
   ]
  },
  {
   "cell_type": "code",
   "execution_count": 44,
   "id": "2b599c15-0121-48a5-8aba-a866141eb68c",
   "metadata": {},
   "outputs": [
    {
     "data": {
      "text/plain": [
       "'Other'"
      ]
     },
     "execution_count": 44,
     "metadata": {},
     "output_type": "execute_result"
    }
   ],
   "source": [
    "# Test model\n",
    "text = \"Pizza\"\n",
    "\n",
    "predict(text)"
   ]
  },
  {
   "cell_type": "code",
   "execution_count": 46,
   "id": "a935f7ac-dede-4c3f-8665-378ab9e1f4d6",
   "metadata": {},
   "outputs": [
    {
     "data": {
      "text/plain": [
       "'prayer'"
      ]
     },
     "execution_count": 46,
     "metadata": {},
     "output_type": "execute_result"
    }
   ],
   "source": [
    "# Test model\n",
    "text = \"How can I pray for you today?\"\n",
    "\n",
    "predict(text)"
   ]
  },
  {
   "cell_type": "code",
   "execution_count": 48,
   "id": "3ec5cbdd-ead5-4c12-817f-83dbd0bc9792",
   "metadata": {},
   "outputs": [
    {
     "data": {
      "text/plain": [
       "'prophesy'"
      ]
     },
     "execution_count": 48,
     "metadata": {},
     "output_type": "execute_result"
    }
   ],
   "source": [
    "# Test model\n",
    "text = \"Prophecy\"\n",
    "\n",
    "predict(text)"
   ]
  },
  {
   "cell_type": "code",
   "execution_count": 49,
   "id": "dd4b8415-7a8d-4896-92bb-8c541582f152",
   "metadata": {},
   "outputs": [
    {
     "data": {
      "application/vnd.jupyter.widget-view+json": {
       "model_id": "98d3e4e6a9934cc7811c48513bc44aa3",
       "version_major": 2,
       "version_minor": 0
      },
      "text/plain": [
       "Button(description='Get Random Row', style=ButtonStyle())"
      ]
     },
     "metadata": {},
     "output_type": "display_data"
    },
    {
     "data": {
      "application/vnd.jupyter.widget-view+json": {
       "model_id": "eec7d24730ab4be4b5d80d75a9f964f8",
       "version_major": 2,
       "version_minor": 0
      },
      "text/plain": [
       "Output()"
      ]
     },
     "metadata": {},
     "output_type": "display_data"
    }
   ],
   "source": [
    "import pandas as pd\n",
    "import random\n",
    "import ipywidgets as widgets\n",
    "from IPython.display import display\n",
    "\n",
    "\n",
    "def get_random_offensive_row(combined_df):\n",
    "    filtered_df = combined_df[combined_df['label_name'] == 'Prayer']\n",
    "    if not filtered_df.empty:\n",
    "        return filtered_df.sample(n=1)\n",
    "    else:\n",
    "        return pd.DataFrame()\n",
    "\n",
    "def on_button_click(b):\n",
    "    random_row = get_random_offensive_row(df)\n",
    "    output.clear_output()\n",
    "    with output:\n",
    "        display(random_row)\n",
    "\n",
    "button = widgets.Button(description=\"Get Random Row\")\n",
    "output = widgets.Output()\n",
    "\n",
    "button.on_click(on_button_click)\n",
    "display(button, output)"
   ]
  },
  {
   "cell_type": "code",
   "execution_count": null,
   "id": "5caa54a0-df8c-4e99-8b7c-7ec063466028",
   "metadata": {},
   "outputs": [],
   "source": []
  },
  {
   "cell_type": "code",
   "execution_count": 53,
   "id": "642238d3-7b41-40d8-9e4f-947ac8b0f286",
   "metadata": {},
   "outputs": [
    {
     "data": {
      "text/plain": [
       "('./models/model_2024-05-21 21-24\\\\tokenizer_config.json',\n",
       " './models/model_2024-05-21 21-24\\\\special_tokens_map.json',\n",
       " './models/model_2024-05-21 21-24\\\\vocab.txt',\n",
       " './models/model_2024-05-21 21-24\\\\added_tokens.json',\n",
       " './models/model_2024-05-21 21-24\\\\tokenizer.json')"
      ]
     },
     "execution_count": 53,
     "metadata": {},
     "output_type": "execute_result"
    }
   ],
   "source": [
    "import datetime\n",
    "from transformers import AutoTokenizer, Trainer\n",
    "\n",
    "# Get the current timestamp\n",
    "timestamp = datetime.datetime.now().strftime(\"%Y-%m-%d %H-%M\")\n",
    "\n",
    "# Path to save the model and tokenizer\n",
    "save_path = f\"./models/model_{timestamp}\"\n",
    "\n",
    "# Save the model\n",
    "trainer.save_model(save_path)\n",
    "\n",
    "# Save the tokenizer\n",
    "tokenizer.save_pretrained(save_path)"
   ]
  },
  {
   "cell_type": "code",
   "execution_count": 55,
   "id": "4aca5787-d96e-4828-a1bf-0afce4b12bd8",
   "metadata": {},
   "outputs": [
    {
     "data": {
      "application/vnd.jupyter.widget-view+json": {
       "model_id": "e638f7bdf3674a3ba68a81f18b333369",
       "version_major": 2,
       "version_minor": 0
      },
      "text/plain": [
       "VBox(children=(HTML(value='<center> <img\\nsrc=https://huggingface.co/front/assets/huggingface_logo-noborder.sv…"
      ]
     },
     "metadata": {},
     "output_type": "display_data"
    }
   ],
   "source": [
    "from huggingface_hub import notebook_login\n",
    "\n",
    "notebook_login()"
   ]
  },
  {
   "cell_type": "code",
   "execution_count": 62,
   "id": "c70de9f7-22c4-4a40-a615-e2fb40b42b29",
   "metadata": {},
   "outputs": [
    {
     "data": {
      "application/vnd.jupyter.widget-view+json": {
       "model_id": "7458859063cb4752a9942a26bd67b580",
       "version_major": 2,
       "version_minor": 0
      },
      "text/plain": [
       "README.md:   0%|          | 0.00/5.18k [00:00<?, ?B/s]"
      ]
     },
     "metadata": {},
     "output_type": "display_data"
    },
    {
     "data": {
      "application/vnd.jupyter.widget-view+json": {
       "model_id": "cf7ec8fad11840439eab4bf72ce43789",
       "version_major": 2,
       "version_minor": 0
      },
      "text/plain": [
       "README.md:   0%|          | 0.00/5.18k [00:00<?, ?B/s]"
      ]
     },
     "metadata": {},
     "output_type": "display_data"
    },
    {
     "data": {
      "text/plain": [
       "CommitInfo(commit_url='https://huggingface.co/GeeDino/bert-base-tweet-topic-classification/commit/af6dea50e55c47365a8837906d679b0b2be12b88', commit_message='Upload tokenizer', commit_description='', oid='af6dea50e55c47365a8837906d679b0b2be12b88', pr_url=None, pr_revision=None, pr_num=None)"
      ]
     },
     "execution_count": 62,
     "metadata": {},
     "output_type": "execute_result"
    }
   ],
   "source": [
    "# push to the hub\n",
    "model_name = \"bert-base-tweet-topic-classification\"\n",
    "model.push_to_hub(model_name)\n",
    "tokenizer.push_to_hub(model_name)"
   ]
  },
  {
   "cell_type": "code",
   "execution_count": null,
   "id": "0116830b-8cdd-4257-97e4-1b0f887a3316",
   "metadata": {},
   "outputs": [],
   "source": []
  }
 ],
 "metadata": {
  "kernelspec": {
   "display_name": "Python 3 (ipykernel)",
   "language": "python",
   "name": "python3"
  },
  "language_info": {
   "codemirror_mode": {
    "name": "ipython",
    "version": 3
   },
   "file_extension": ".py",
   "mimetype": "text/x-python",
   "name": "python",
   "nbconvert_exporter": "python",
   "pygments_lexer": "ipython3",
   "version": "3.12.1"
  }
 },
 "nbformat": 4,
 "nbformat_minor": 5
}
