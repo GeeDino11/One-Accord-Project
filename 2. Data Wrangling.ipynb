{
 "cells": [
  {
   "cell_type": "code",
   "execution_count": 1,
   "id": "26cd905f-214d-4ba0-9613-94eea3d070f0",
   "metadata": {},
   "outputs": [],
   "source": [
    "import pandas as pd\n",
    "import os"
   ]
  },
  {
   "cell_type": "markdown",
   "id": "0a26eaa3-8ff2-4e8a-9928-657f82b50cbc",
   "metadata": {},
   "source": [
    "---\n",
    "\n",
    "## If we need to combine files"
   ]
  },
  {
   "cell_type": "code",
   "execution_count": 22,
   "id": "164a78c6-604a-4741-9151-e6af3abc83b9",
   "metadata": {},
   "outputs": [
    {
     "data": {
      "text/html": [
       "<div>\n",
       "<style scoped>\n",
       "    .dataframe tbody tr th:only-of-type {\n",
       "        vertical-align: middle;\n",
       "    }\n",
       "\n",
       "    .dataframe tbody tr th {\n",
       "        vertical-align: top;\n",
       "    }\n",
       "\n",
       "    .dataframe thead th {\n",
       "        text-align: right;\n",
       "    }\n",
       "</style>\n",
       "<table border=\"1\" class=\"dataframe\">\n",
       "  <thead>\n",
       "    <tr style=\"text-align: right;\">\n",
       "      <th></th>\n",
       "      <th>text</th>\n",
       "      <th>date</th>\n",
       "      <th>label</th>\n",
       "      <th>label_name</th>\n",
       "      <th>id</th>\n",
       "    </tr>\n",
       "  </thead>\n",
       "  <tbody>\n",
       "    <tr>\n",
       "      <th>0</th>\n",
       "      <td>Eternal Salvation\\tIf Eternal Salvation is det...</td>\n",
       "      <td>2024-04-26</td>\n",
       "      <td>9</td>\n",
       "      <td>salvation</td>\n",
       "      <td>1783692672487608710</td>\n",
       "    </tr>\n",
       "    <tr>\n",
       "      <th>1</th>\n",
       "      <td>(Golden Harvest International School) — In a t...</td>\n",
       "      <td>2024-04-26</td>\n",
       "      <td>9</td>\n",
       "      <td>salvation</td>\n",
       "      <td>1783692668884734437</td>\n",
       "    </tr>\n",
       "    <tr>\n",
       "      <th>2</th>\n",
       "      <td>{{USERNAME}} {{USERNAME}} {{USERNAME}} {{USERN...</td>\n",
       "      <td>2024-04-26</td>\n",
       "      <td>9</td>\n",
       "      <td>salvation</td>\n",
       "      <td>1783692575506849828</td>\n",
       "    </tr>\n",
       "    <tr>\n",
       "      <th>3</th>\n",
       "      <td>📕\"The Lord is my strength and my song, and he ...</td>\n",
       "      <td>2024-04-26</td>\n",
       "      <td>9</td>\n",
       "      <td>salvation</td>\n",
       "      <td>1783692534318821696</td>\n",
       "    </tr>\n",
       "    <tr>\n",
       "      <th>4</th>\n",
       "      <td>{{USERNAME}} {{USERNAME}} {{USERNAME}} {{USERN...</td>\n",
       "      <td>2024-04-26</td>\n",
       "      <td>9</td>\n",
       "      <td>salvation</td>\n",
       "      <td>1783692517994594599</td>\n",
       "    </tr>\n",
       "  </tbody>\n",
       "</table>\n",
       "</div>"
      ],
      "text/plain": [
       "                                                text        date  label  \\\n",
       "0  Eternal Salvation\\tIf Eternal Salvation is det...  2024-04-26      9   \n",
       "1  (Golden Harvest International School) — In a t...  2024-04-26      9   \n",
       "2  {{USERNAME}} {{USERNAME}} {{USERNAME}} {{USERN...  2024-04-26      9   \n",
       "3  📕\"The Lord is my strength and my song, and he ...  2024-04-26      9   \n",
       "4  {{USERNAME}} {{USERNAME}} {{USERNAME}} {{USERN...  2024-04-26      9   \n",
       "\n",
       "  label_name                   id  \n",
       "0  salvation  1783692672487608710  \n",
       "1  salvation  1783692668884734437  \n",
       "2  salvation  1783692575506849828  \n",
       "3  salvation  1783692534318821696  \n",
       "4  salvation  1783692517994594599  "
      ]
     },
     "execution_count": 22,
     "metadata": {},
     "output_type": "execute_result"
    }
   ],
   "source": [
    "topic1 = 'salvation'\n",
    "topic2 = 'worship'\n",
    "\n",
    "df1 = pd.read_csv(f'data/{topic1}.csv')\n",
    "df1.head()"
   ]
  },
  {
   "cell_type": "code",
   "execution_count": 23,
   "id": "fc930986-2762-4ff6-b55d-284175ac575a",
   "metadata": {},
   "outputs": [
    {
     "data": {
      "text/html": [
       "<div>\n",
       "<style scoped>\n",
       "    .dataframe tbody tr th:only-of-type {\n",
       "        vertical-align: middle;\n",
       "    }\n",
       "\n",
       "    .dataframe tbody tr th {\n",
       "        vertical-align: top;\n",
       "    }\n",
       "\n",
       "    .dataframe thead th {\n",
       "        text-align: right;\n",
       "    }\n",
       "</style>\n",
       "<table border=\"1\" class=\"dataframe\">\n",
       "  <thead>\n",
       "    <tr style=\"text-align: right;\">\n",
       "      <th></th>\n",
       "      <th>text</th>\n",
       "      <th>date</th>\n",
       "      <th>label</th>\n",
       "      <th>label_name</th>\n",
       "      <th>id</th>\n",
       "    </tr>\n",
       "  </thead>\n",
       "  <tbody>\n",
       "    <tr>\n",
       "      <th>0</th>\n",
       "      <td>{{USERNAME}} 6843107 🚮🎯🇷🇺🐥🇰🇭 All worship the r...</td>\n",
       "      <td>2024-04-26</td>\n",
       "      <td>10</td>\n",
       "      <td>worship</td>\n",
       "      <td>1783691054803476692</td>\n",
       "    </tr>\n",
       "    <tr>\n",
       "      <th>1</th>\n",
       "      <td>[Allkpop]\\tUpvote + Stay for 2mins + Share\\t1 ...</td>\n",
       "      <td>2024-04-26</td>\n",
       "      <td>10</td>\n",
       "      <td>worship</td>\n",
       "      <td>1783691052588863893</td>\n",
       "    </tr>\n",
       "    <tr>\n",
       "      <th>2</th>\n",
       "      <td>praise my body like the slut you are. {{URL}}</td>\n",
       "      <td>2024-04-26</td>\n",
       "      <td>10</td>\n",
       "      <td>worship</td>\n",
       "      <td>1783691050676351079</td>\n",
       "    </tr>\n",
       "    <tr>\n",
       "      <th>3</th>\n",
       "      <td>Through the true devotion (satbhakti) taught b...</td>\n",
       "      <td>2024-04-26</td>\n",
       "      <td>10</td>\n",
       "      <td>worship</td>\n",
       "      <td>1783691049480904950</td>\n",
       "    </tr>\n",
       "    <tr>\n",
       "      <th>4</th>\n",
       "      <td>The sweetest of all sounds is praise.</td>\n",
       "      <td>2024-04-26</td>\n",
       "      <td>10</td>\n",
       "      <td>worship</td>\n",
       "      <td>1783691046943400296</td>\n",
       "    </tr>\n",
       "  </tbody>\n",
       "</table>\n",
       "</div>"
      ],
      "text/plain": [
       "                                                text        date  label  \\\n",
       "0  {{USERNAME}} 6843107 🚮🎯🇷🇺🐥🇰🇭 All worship the r...  2024-04-26     10   \n",
       "1  [Allkpop]\\tUpvote + Stay for 2mins + Share\\t1 ...  2024-04-26     10   \n",
       "2      praise my body like the slut you are. {{URL}}  2024-04-26     10   \n",
       "3  Through the true devotion (satbhakti) taught b...  2024-04-26     10   \n",
       "4              The sweetest of all sounds is praise.  2024-04-26     10   \n",
       "\n",
       "  label_name                   id  \n",
       "0    worship  1783691054803476692  \n",
       "1    worship  1783691052588863893  \n",
       "2    worship  1783691050676351079  \n",
       "3    worship  1783691049480904950  \n",
       "4    worship  1783691046943400296  "
      ]
     },
     "execution_count": 23,
     "metadata": {},
     "output_type": "execute_result"
    }
   ],
   "source": [
    "df2 = pd.read_csv(f'data/{topic2}.csv')\n",
    "df2.head()"
   ]
  },
  {
   "cell_type": "code",
   "execution_count": 24,
   "id": "d2419f08-ccc1-4ea6-bfc9-33791d37c8c4",
   "metadata": {},
   "outputs": [
    {
     "data": {
      "text/plain": [
       "(3000, 5)"
      ]
     },
     "execution_count": 24,
     "metadata": {},
     "output_type": "execute_result"
    }
   ],
   "source": [
    "concatenated_df = pd.concat([df1, df2], ignore_index=True)\n",
    "concatenated_df = concatenated_df.drop_duplicates()\n",
    "concatenated_df.shape"
   ]
  },
  {
   "cell_type": "code",
   "execution_count": 25,
   "id": "a1176eb4-d54e-4ff5-9072-fd79db99e63f",
   "metadata": {},
   "outputs": [
    {
     "data": {
      "text/html": [
       "<div>\n",
       "<style scoped>\n",
       "    .dataframe tbody tr th:only-of-type {\n",
       "        vertical-align: middle;\n",
       "    }\n",
       "\n",
       "    .dataframe tbody tr th {\n",
       "        vertical-align: top;\n",
       "    }\n",
       "\n",
       "    .dataframe thead th {\n",
       "        text-align: right;\n",
       "    }\n",
       "</style>\n",
       "<table border=\"1\" class=\"dataframe\">\n",
       "  <thead>\n",
       "    <tr style=\"text-align: right;\">\n",
       "      <th></th>\n",
       "      <th>text</th>\n",
       "      <th>date</th>\n",
       "      <th>label</th>\n",
       "      <th>label_name</th>\n",
       "      <th>id</th>\n",
       "    </tr>\n",
       "  </thead>\n",
       "  <tbody>\n",
       "    <tr>\n",
       "      <th>0</th>\n",
       "      <td>Eternal Salvation\\tIf Eternal Salvation is det...</td>\n",
       "      <td>2024-04-26</td>\n",
       "      <td>9</td>\n",
       "      <td>salvation</td>\n",
       "      <td>1783692672487608710</td>\n",
       "    </tr>\n",
       "    <tr>\n",
       "      <th>1</th>\n",
       "      <td>(Golden Harvest International School) — In a t...</td>\n",
       "      <td>2024-04-26</td>\n",
       "      <td>9</td>\n",
       "      <td>salvation</td>\n",
       "      <td>1783692668884734437</td>\n",
       "    </tr>\n",
       "    <tr>\n",
       "      <th>2</th>\n",
       "      <td>{{USERNAME}} {{USERNAME}} {{USERNAME}} {{USERN...</td>\n",
       "      <td>2024-04-26</td>\n",
       "      <td>9</td>\n",
       "      <td>salvation</td>\n",
       "      <td>1783692575506849828</td>\n",
       "    </tr>\n",
       "    <tr>\n",
       "      <th>3</th>\n",
       "      <td>📕\"The Lord is my strength and my song, and he ...</td>\n",
       "      <td>2024-04-26</td>\n",
       "      <td>9</td>\n",
       "      <td>salvation</td>\n",
       "      <td>1783692534318821696</td>\n",
       "    </tr>\n",
       "    <tr>\n",
       "      <th>4</th>\n",
       "      <td>{{USERNAME}} {{USERNAME}} {{USERNAME}} {{USERN...</td>\n",
       "      <td>2024-04-26</td>\n",
       "      <td>9</td>\n",
       "      <td>salvation</td>\n",
       "      <td>1783692517994594599</td>\n",
       "    </tr>\n",
       "  </tbody>\n",
       "</table>\n",
       "</div>"
      ],
      "text/plain": [
       "                                                text        date  label  \\\n",
       "0  Eternal Salvation\\tIf Eternal Salvation is det...  2024-04-26      9   \n",
       "1  (Golden Harvest International School) — In a t...  2024-04-26      9   \n",
       "2  {{USERNAME}} {{USERNAME}} {{USERNAME}} {{USERN...  2024-04-26      9   \n",
       "3  📕\"The Lord is my strength and my song, and he ...  2024-04-26      9   \n",
       "4  {{USERNAME}} {{USERNAME}} {{USERNAME}} {{USERN...  2024-04-26      9   \n",
       "\n",
       "  label_name                   id  \n",
       "0  salvation  1783692672487608710  \n",
       "1  salvation  1783692668884734437  \n",
       "2  salvation  1783692575506849828  \n",
       "3  salvation  1783692534318821696  \n",
       "4  salvation  1783692517994594599  "
      ]
     },
     "execution_count": 25,
     "metadata": {},
     "output_type": "execute_result"
    }
   ],
   "source": [
    "concatenated_df.head()"
   ]
  },
  {
   "cell_type": "code",
   "execution_count": 26,
   "id": "a46d0fc9-eaa6-4591-ae0e-b4e468a8b2a1",
   "metadata": {},
   "outputs": [],
   "source": [
    "concatenated_df.to_csv('data/master.csv', mode='a', index=False, header=not os.path.exists('data/master.csv'))"
   ]
  },
  {
   "cell_type": "code",
   "execution_count": 27,
   "id": "484cbe06-522d-4986-be7c-b775e4012cf8",
   "metadata": {},
   "outputs": [
    {
     "data": {
      "text/plain": [
       "(14997, 5)"
      ]
     },
     "execution_count": 27,
     "metadata": {},
     "output_type": "execute_result"
    }
   ],
   "source": [
    "pd.read_csv('data/master.csv').shape"
   ]
  },
  {
   "cell_type": "code",
   "execution_count": null,
   "id": "5f2679f2-9314-4206-915c-24b8ac0d19af",
   "metadata": {},
   "outputs": [],
   "source": []
  },
  {
   "cell_type": "markdown",
   "id": "790ee626-efc0-4da2-ab57-636c0a46d98b",
   "metadata": {},
   "source": [
    "---\n",
    "# Remove highly offensive tweets"
   ]
  },
  {
   "cell_type": "code",
   "execution_count": 31,
   "id": "d28d6e17-0e7d-4662-838e-67a9269ac124",
   "metadata": {},
   "outputs": [],
   "source": [
    "from transformers import pipeline\n",
    "\n",
    "# Load the language model for text classification\n",
    "classifier = pipeline(\"text-classification\", model=\"nlptown/bert-base-multilingual-uncased-sentiment\", device=0)"
   ]
  },
  {
   "cell_type": "code",
   "execution_count": 32,
   "id": "090ac88c-f6b9-4ac5-ae3e-91c3f92e20b9",
   "metadata": {},
   "outputs": [],
   "source": [
    "# Load your dataset into a DataFrame\n",
    "df = pd.read_csv('data/master.csv')\n",
    "\n",
    "# Function to classify text and return toxicity score\n",
    "def classify_text(text):\n",
    "    result = classifier(text)\n",
    "    return result[0]['label'], result[0]['score']\n"
   ]
  },
  {
   "cell_type": "code",
   "execution_count": null,
   "id": "3f7f35c5-b3db-4e68-a2bd-16762ecef9dd",
   "metadata": {},
   "outputs": [],
   "source": [
    "# Apply the classification function to each row in the DataFrame\n",
    "df['toxicity_label'], df['toxicity_score'] = zip(*df['text'].apply(classify_text))\n",
    "\n",
    "df.to_csv('data/sentiment_master.csv')"
   ]
  },
  {
   "cell_type": "code",
   "execution_count": 35,
   "id": "b7372ae2-ba2f-4853-9ee4-777a00fc4a53",
   "metadata": {},
   "outputs": [
    {
     "name": "stdout",
     "output_type": "stream",
     "text": [
      "Index(['text', 'date', 'label', 'label_name', 'id', 'toxicity_label',\n",
      "       'toxicity_score'],\n",
      "      dtype='object')\n",
      "['1 star' '3 stars' '4 stars' '2 stars']\n",
      "(9070, 7)\n"
     ]
    }
   ],
   "source": [
    "filtered_df = df[df['toxicity_label'] != '5 stars']\n",
    "print(filtered_df.columns)\n",
    "print(filtered_df.toxicity_label.unique())\n",
    "print(filtered_df.shape)"
   ]
  },
  {
   "cell_type": "code",
   "execution_count": 36,
   "id": "23553fe0-854a-4f8c-bf59-d6aa08ea929c",
   "metadata": {},
   "outputs": [
    {
     "name": "stderr",
     "output_type": "stream",
     "text": [
      "C:\\Users\\matth\\AppData\\Local\\Temp\\ipykernel_11912\\2938251115.py:1: SettingWithCopyWarning: \n",
      "A value is trying to be set on a copy of a slice from a DataFrame\n",
      "\n",
      "See the caveats in the documentation: https://pandas.pydata.org/pandas-docs/stable/user_guide/indexing.html#returning-a-view-versus-a-copy\n",
      "  filtered_df.drop(columns=['toxicity_label', 'toxicity_score'], inplace=True)\n"
     ]
    }
   ],
   "source": [
    "filtered_df.drop(columns=['toxicity_label', 'toxicity_score'], inplace=True)"
   ]
  },
  {
   "cell_type": "code",
   "execution_count": 37,
   "id": "83c95984-f98d-46db-9029-422215f63faa",
   "metadata": {},
   "outputs": [
    {
     "data": {
      "text/html": [
       "<div>\n",
       "<style scoped>\n",
       "    .dataframe tbody tr th:only-of-type {\n",
       "        vertical-align: middle;\n",
       "    }\n",
       "\n",
       "    .dataframe tbody tr th {\n",
       "        vertical-align: top;\n",
       "    }\n",
       "\n",
       "    .dataframe thead th {\n",
       "        text-align: right;\n",
       "    }\n",
       "</style>\n",
       "<table border=\"1\" class=\"dataframe\">\n",
       "  <thead>\n",
       "    <tr style=\"text-align: right;\">\n",
       "      <th></th>\n",
       "      <th>text</th>\n",
       "      <th>date</th>\n",
       "      <th>label</th>\n",
       "      <th>label_name</th>\n",
       "      <th>id</th>\n",
       "    </tr>\n",
       "  </thead>\n",
       "  <tbody>\n",
       "    <tr>\n",
       "      <th>0</th>\n",
       "      <td>{{USERNAME}} Fair enough! Honestly I can not i...</td>\n",
       "      <td>2024-04-26</td>\n",
       "      <td>2</td>\n",
       "      <td>bible</td>\n",
       "      <td>1783677542588727555</td>\n",
       "    </tr>\n",
       "    <tr>\n",
       "      <th>1</th>\n",
       "      <td>{{USERNAME}} {{USERNAME}} I hear ya. I wasn’t ...</td>\n",
       "      <td>2024-04-26</td>\n",
       "      <td>2</td>\n",
       "      <td>bible</td>\n",
       "      <td>1783677542005649587</td>\n",
       "    </tr>\n",
       "    <tr>\n",
       "      <th>3</th>\n",
       "      <td>{{USERNAME}} Holy reach #BUST</td>\n",
       "      <td>2024-04-26</td>\n",
       "      <td>2</td>\n",
       "      <td>bible</td>\n",
       "      <td>1783677527355174915</td>\n",
       "    </tr>\n",
       "    <tr>\n",
       "      <th>4</th>\n",
       "      <td>{{USERNAME}} I was out to dinner tonight and j...</td>\n",
       "      <td>2024-04-26</td>\n",
       "      <td>2</td>\n",
       "      <td>bible</td>\n",
       "      <td>1783677526901932435</td>\n",
       "    </tr>\n",
       "    <tr>\n",
       "      <th>6</th>\n",
       "      <td>{{USERNAME}} Holy shit</td>\n",
       "      <td>2024-04-26</td>\n",
       "      <td>2</td>\n",
       "      <td>bible</td>\n",
       "      <td>1783677526537064910</td>\n",
       "    </tr>\n",
       "    <tr>\n",
       "      <th>...</th>\n",
       "      <td>...</td>\n",
       "      <td>...</td>\n",
       "      <td>...</td>\n",
       "      <td>...</td>\n",
       "      <td>...</td>\n",
       "    </tr>\n",
       "    <tr>\n",
       "      <th>14991</th>\n",
       "      <td>{{USERNAME}} actually yer fuckin' dumb if you ...</td>\n",
       "      <td>2024-04-29</td>\n",
       "      <td>10</td>\n",
       "      <td>worship</td>\n",
       "      <td>1784994083045564674</td>\n",
       "    </tr>\n",
       "    <tr>\n",
       "      <th>14993</th>\n",
       "      <td>{{USERNAME}} Truly these people doesn't worshi...</td>\n",
       "      <td>2024-04-29</td>\n",
       "      <td>10</td>\n",
       "      <td>worship</td>\n",
       "      <td>1784994078301565166</td>\n",
       "    </tr>\n",
       "    <tr>\n",
       "      <th>14994</th>\n",
       "      <td>{{USERNAME}} It is hard to watch, but it has b...</td>\n",
       "      <td>2024-04-29</td>\n",
       "      <td>10</td>\n",
       "      <td>worship</td>\n",
       "      <td>1784994075315409176</td>\n",
       "    </tr>\n",
       "    <tr>\n",
       "      <th>14995</th>\n",
       "      <td>{{USERNAME}} {{USERNAME}} Vitriol? And rudenes...</td>\n",
       "      <td>2024-04-29</td>\n",
       "      <td>10</td>\n",
       "      <td>worship</td>\n",
       "      <td>1784994074182758744</td>\n",
       "    </tr>\n",
       "    <tr>\n",
       "      <th>14996</th>\n",
       "      <td>See me laughing at my stupid Good for nothing ...</td>\n",
       "      <td>2024-04-29</td>\n",
       "      <td>10</td>\n",
       "      <td>worship</td>\n",
       "      <td>1784994071896793266</td>\n",
       "    </tr>\n",
       "  </tbody>\n",
       "</table>\n",
       "<p>9070 rows × 5 columns</p>\n",
       "</div>"
      ],
      "text/plain": [
       "                                                    text        date  label  \\\n",
       "0      {{USERNAME}} Fair enough! Honestly I can not i...  2024-04-26      2   \n",
       "1      {{USERNAME}} {{USERNAME}} I hear ya. I wasn’t ...  2024-04-26      2   \n",
       "3                          {{USERNAME}} Holy reach #BUST  2024-04-26      2   \n",
       "4      {{USERNAME}} I was out to dinner tonight and j...  2024-04-26      2   \n",
       "6                                 {{USERNAME}} Holy shit  2024-04-26      2   \n",
       "...                                                  ...         ...    ...   \n",
       "14991  {{USERNAME}} actually yer fuckin' dumb if you ...  2024-04-29     10   \n",
       "14993  {{USERNAME}} Truly these people doesn't worshi...  2024-04-29     10   \n",
       "14994  {{USERNAME}} It is hard to watch, but it has b...  2024-04-29     10   \n",
       "14995  {{USERNAME}} {{USERNAME}} Vitriol? And rudenes...  2024-04-29     10   \n",
       "14996  See me laughing at my stupid Good for nothing ...  2024-04-29     10   \n",
       "\n",
       "      label_name                   id  \n",
       "0          bible  1783677542588727555  \n",
       "1          bible  1783677542005649587  \n",
       "3          bible  1783677527355174915  \n",
       "4          bible  1783677526901932435  \n",
       "6          bible  1783677526537064910  \n",
       "...          ...                  ...  \n",
       "14991    worship  1784994083045564674  \n",
       "14993    worship  1784994078301565166  \n",
       "14994    worship  1784994075315409176  \n",
       "14995    worship  1784994074182758744  \n",
       "14996    worship  1784994071896793266  \n",
       "\n",
       "[9070 rows x 5 columns]"
      ]
     },
     "execution_count": 37,
     "metadata": {},
     "output_type": "execute_result"
    }
   ],
   "source": [
    "filtered_df"
   ]
  },
  {
   "cell_type": "code",
   "execution_count": 38,
   "id": "734e3328-c721-449d-82cc-e338811ef975",
   "metadata": {},
   "outputs": [
    {
     "name": "stdout",
     "output_type": "stream",
     "text": [
      "Duplicate Rows:\n",
      "0\n",
      "\n",
      "DataFrame without Duplicates:\n",
      "9070\n"
     ]
    }
   ],
   "source": [
    "duplicate_rows = filtered_df[filtered_df.duplicated()]\n",
    "df_no_duplicates = filtered_df.drop_duplicates()\n",
    "\n",
    "print(\"Duplicate Rows:\")\n",
    "print(len(duplicate_rows))\n",
    "\n",
    "print(\"\\nDataFrame without Duplicates:\")\n",
    "print(len(df_no_duplicates))"
   ]
  },
  {
   "cell_type": "code",
   "execution_count": 39,
   "id": "ce0457b7-fa5b-4b7a-b2c5-47c17f4460df",
   "metadata": {},
   "outputs": [],
   "source": [
    "df_no_duplicates.to_csv(\"data/cleaned_master.csv\", index=False)"
   ]
  },
  {
   "cell_type": "code",
   "execution_count": 40,
   "id": "bd5bad25-8527-49f8-bfef-645327fffa05",
   "metadata": {},
   "outputs": [
    {
     "data": {
      "text/html": [
       "<div>\n",
       "<style scoped>\n",
       "    .dataframe tbody tr th:only-of-type {\n",
       "        vertical-align: middle;\n",
       "    }\n",
       "\n",
       "    .dataframe tbody tr th {\n",
       "        vertical-align: top;\n",
       "    }\n",
       "\n",
       "    .dataframe thead th {\n",
       "        text-align: right;\n",
       "    }\n",
       "</style>\n",
       "<table border=\"1\" class=\"dataframe\">\n",
       "  <thead>\n",
       "    <tr style=\"text-align: right;\">\n",
       "      <th></th>\n",
       "      <th>text</th>\n",
       "      <th>date</th>\n",
       "      <th>label</th>\n",
       "      <th>label_name</th>\n",
       "      <th>id</th>\n",
       "    </tr>\n",
       "  </thead>\n",
       "  <tbody>\n",
       "    <tr>\n",
       "      <th>0</th>\n",
       "      <td>{{USERNAME}} Fair enough! Honestly I can not i...</td>\n",
       "      <td>2024-04-26</td>\n",
       "      <td>2</td>\n",
       "      <td>bible</td>\n",
       "      <td>1783677542588727555</td>\n",
       "    </tr>\n",
       "    <tr>\n",
       "      <th>1</th>\n",
       "      <td>{{USERNAME}} {{USERNAME}} I hear ya. I wasn’t ...</td>\n",
       "      <td>2024-04-26</td>\n",
       "      <td>2</td>\n",
       "      <td>bible</td>\n",
       "      <td>1783677542005649587</td>\n",
       "    </tr>\n",
       "    <tr>\n",
       "      <th>2</th>\n",
       "      <td>{{USERNAME}} Holy reach #BUST</td>\n",
       "      <td>2024-04-26</td>\n",
       "      <td>2</td>\n",
       "      <td>bible</td>\n",
       "      <td>1783677527355174915</td>\n",
       "    </tr>\n",
       "    <tr>\n",
       "      <th>3</th>\n",
       "      <td>{{USERNAME}} I was out to dinner tonight and j...</td>\n",
       "      <td>2024-04-26</td>\n",
       "      <td>2</td>\n",
       "      <td>bible</td>\n",
       "      <td>1783677526901932435</td>\n",
       "    </tr>\n",
       "    <tr>\n",
       "      <th>4</th>\n",
       "      <td>{{USERNAME}} Holy shit</td>\n",
       "      <td>2024-04-26</td>\n",
       "      <td>2</td>\n",
       "      <td>bible</td>\n",
       "      <td>1783677526537064910</td>\n",
       "    </tr>\n",
       "  </tbody>\n",
       "</table>\n",
       "</div>"
      ],
      "text/plain": [
       "                                                text        date  label  \\\n",
       "0  {{USERNAME}} Fair enough! Honestly I can not i...  2024-04-26      2   \n",
       "1  {{USERNAME}} {{USERNAME}} I hear ya. I wasn’t ...  2024-04-26      2   \n",
       "2                      {{USERNAME}} Holy reach #BUST  2024-04-26      2   \n",
       "3  {{USERNAME}} I was out to dinner tonight and j...  2024-04-26      2   \n",
       "4                             {{USERNAME}} Holy shit  2024-04-26      2   \n",
       "\n",
       "  label_name                   id  \n",
       "0      bible  1783677542588727555  \n",
       "1      bible  1783677542005649587  \n",
       "2      bible  1783677527355174915  \n",
       "3      bible  1783677526901932435  \n",
       "4      bible  1783677526537064910  "
      ]
     },
     "execution_count": 40,
     "metadata": {},
     "output_type": "execute_result"
    }
   ],
   "source": [
    "df = pd.read_csv(\"data/cleaned_master.csv\")\n",
    "df.head()"
   ]
  },
  {
   "cell_type": "code",
   "execution_count": 41,
   "id": "1defcd8c-b5ae-4a7c-865a-a2fdff466fed",
   "metadata": {},
   "outputs": [
    {
     "data": {
      "text/plain": [
       "(9070, 5)"
      ]
     },
     "execution_count": 41,
     "metadata": {},
     "output_type": "execute_result"
    }
   ],
   "source": [
    "df.shape"
   ]
  },
  {
   "cell_type": "code",
   "execution_count": 42,
   "id": "1c37a4b9-1548-4c51-9350-c552495f8f81",
   "metadata": {},
   "outputs": [
    {
     "data": {
      "text/plain": [
       "(9070, 5)"
      ]
     },
     "execution_count": 42,
     "metadata": {},
     "output_type": "execute_result"
    }
   ],
   "source": [
    "df = df.drop_duplicates()\n",
    "df.shape"
   ]
  },
  {
   "cell_type": "code",
   "execution_count": 43,
   "id": "ec01a809-1ebb-416c-82e4-ae5a33df188e",
   "metadata": {},
   "outputs": [
    {
     "data": {
      "text/plain": [
       "array([ 2,  3,  4,  5,  6,  7,  1,  8,  9, 10], dtype=int64)"
      ]
     },
     "execution_count": 43,
     "metadata": {},
     "output_type": "execute_result"
    }
   ],
   "source": [
    "df.label.unique()"
   ]
  },
  {
   "cell_type": "code",
   "execution_count": 44,
   "id": "13c025ab-3702-4ee5-8022-859beec9738c",
   "metadata": {},
   "outputs": [
    {
     "data": {
      "text/plain": [
       "array(['bible', 'current_events', 'fellowship', 'Jerusalem', 'Jesus',\n",
       "       'Kingdom', 'prayer', 'prophesy', 'salvation', 'worship'],\n",
       "      dtype=object)"
      ]
     },
     "execution_count": 44,
     "metadata": {},
     "output_type": "execute_result"
    }
   ],
   "source": [
    "df.label_name.unique()"
   ]
  },
  {
   "cell_type": "code",
   "execution_count": 45,
   "id": "a9c09057-dc3c-4dbd-aa0b-9cc43fbbaeb4",
   "metadata": {},
   "outputs": [
    {
     "data": {
      "text/plain": [
       "label\n",
       "3     1299\n",
       "5     1159\n",
       "8      997\n",
       "2      961\n",
       "9      908\n",
       "1      859\n",
       "6      786\n",
       "7      737\n",
       "10     702\n",
       "4      662\n",
       "Name: count, dtype: int64"
      ]
     },
     "execution_count": 45,
     "metadata": {},
     "output_type": "execute_result"
    }
   ],
   "source": [
    "df.label.value_counts()"
   ]
  },
  {
   "cell_type": "code",
   "execution_count": null,
   "id": "4725054e-ccc6-4f21-bc94-d107001b90fc",
   "metadata": {},
   "outputs": [],
   "source": []
  }
 ],
 "metadata": {
  "kernelspec": {
   "display_name": "Python 3 (ipykernel)",
   "language": "python",
   "name": "python3"
  },
  "language_info": {
   "codemirror_mode": {
    "name": "ipython",
    "version": 3
   },
   "file_extension": ".py",
   "mimetype": "text/x-python",
   "name": "python",
   "nbconvert_exporter": "python",
   "pygments_lexer": "ipython3",
   "version": "3.12.1"
  }
 },
 "nbformat": 4,
 "nbformat_minor": 5
}
