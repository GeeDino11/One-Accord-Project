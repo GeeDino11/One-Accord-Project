{
 "cells": [
  {
   "cell_type": "markdown",
   "id": "03bc7dac-b772-4240-9934-235ace296612",
   "metadata": {},
   "source": [
    "# Tweepy"
   ]
  },
  {
   "cell_type": "code",
   "execution_count": 1,
   "id": "c6695150-40da-487c-a66e-d755fdf24d97",
   "metadata": {},
   "outputs": [],
   "source": [
    "# import packages\n",
    "import requests\n",
    "import json\n",
    "import time\n",
    "import random\n",
    "import os\n",
    "import pandas as pd"
   ]
  },
  {
   "cell_type": "code",
   "execution_count": 2,
   "id": "af0838de-3b96-4d4b-85ce-b96ba3b5cb6e",
   "metadata": {},
   "outputs": [],
   "source": [
    "# authentication\n",
    "bearer_token = os.environ.get('X_BEARER_TOKEN')"
   ]
  },
  {
   "cell_type": "code",
   "execution_count": 3,
   "id": "58a3bc4b-ffb9-4ab6-897d-246073e1b1a4",
   "metadata": {},
   "outputs": [],
   "source": [
    "# API endpoint\n",
    "endpoint_url = \"https://api.twitter.com/2/tweets/search/recent\""
   ]
  },
  {
   "cell_type": "code",
   "execution_count": 4,
   "id": "6e8518db-6285-4660-b963-db4881b0f362",
   "metadata": {},
   "outputs": [],
   "source": [
    "# number of requests\n",
    "max_results = 100"
   ]
  },
  {
   "cell_type": "markdown",
   "id": "121588f7-f474-41dc-9c45-095dacba5dfb",
   "metadata": {},
   "source": [
    "---\n",
    "\n",
    "## Queries\n",
    "\n",
    "#### Uncomment single topic to scrape"
   ]
  },
  {
   "cell_type": "code",
   "execution_count": 5,
   "id": "2bdaf639-d0c9-4021-8539-32c155a091df",
   "metadata": {},
   "outputs": [],
   "source": [
    "# table_name = 'bible'\n",
    "# label = 2\n",
    "# query = \"\"\"\n",
    "\n",
    "# \"bible\" OR \"biblical\" OR \"holy\" OR \"holiness\" OR \"revelation\" OR \"scrolls\" OR \"scripture\" OR \"bible verse\"\n",
    "\n",
    "# \"\"\" "
   ]
  },
  {
   "cell_type": "code",
   "execution_count": 6,
   "id": "7ac4b2ad-394a-411f-9839-2a64b3e85452",
   "metadata": {},
   "outputs": [],
   "source": [
    "# table_name = 'current_events'\n",
    "# label = 3\n",
    "# query = \"\"\"\n",
    "\n",
    "# \"current events\" OR \"breaking news\" OR \"live events\" OR \"political\" OR \"government\" OR \"world news\" OR \"president\"\n",
    "\n",
    "# \"\"\" "
   ]
  },
  {
   "cell_type": "code",
   "execution_count": 7,
   "id": "5e714c91-2a7c-453d-8e82-4b9fe10c1013",
   "metadata": {},
   "outputs": [],
   "source": [
    "# table_name = 'fellowship'\n",
    "# label = 4\n",
    "# query = \"\"\"\n",
    "\n",
    "# \"fellowship\" OR \"communion\" OR \"exchanges\" OR \"unity\" OR \"oneness\" OR \"harmony\"\n",
    "\n",
    "# \"\"\" "
   ]
  },
  {
   "cell_type": "code",
   "execution_count": 8,
   "id": "ecb5ffa9-5f82-466e-b935-c4fc5774f2af",
   "metadata": {},
   "outputs": [],
   "source": [
    "# table_name = 'Jerusalem'\n",
    "# label = 5\n",
    "# query = \"\"\"\n",
    "\n",
    "# \"Jerusalem\" OR \"Holy City\" OR \"Zion\" OR \"The City of David\" OR \"The Promised Land\" OR \"The Holy Land\" OR \"The City of Peace\" OR \"The Eternal City\" OR \"The City of Gold\"\n",
    "\n",
    "# \"\"\" "
   ]
  },
  {
   "cell_type": "code",
   "execution_count": 9,
   "id": "4442b61b-d466-4046-bfc1-d2441b99cd50",
   "metadata": {},
   "outputs": [],
   "source": [
    "# table_name = 'Jesus'\n",
    "# label = 6\n",
    "# query = \"\"\"\n",
    "\n",
    "# \"Jesus\" OR \"Holy Spirit\" OR \"God\" OR \"Spirit of God\" OR \"Lion\" OR \"Lord\" OR \"Jehovah\"\n",
    "\n",
    "# \"\"\" "
   ]
  },
  {
   "cell_type": "code",
   "execution_count": 10,
   "id": "d253676f-f722-4c6e-ac2e-656c094ec28e",
   "metadata": {},
   "outputs": [],
   "source": [
    "# table_name = 'Kingdom'\n",
    "# label = 7\n",
    "# query = \"\"\"\n",
    "\n",
    "# \"Heaven\" OR \"Kingdom\" OR \"Paradise\" OR \"Kingdom of God\" OR \"The Promised Land\" OR \"Eden\"\n",
    "\n",
    "# \"\"\" "
   ]
  },
  {
   "cell_type": "code",
   "execution_count": 11,
   "id": "cb967864-c897-4615-8c6a-b38587649ee4",
   "metadata": {},
   "outputs": [],
   "source": [
    "# table_name = 'prayer'\n",
    "# label = 1\n",
    "# query = \"\"\"\n",
    "\n",
    "# \"prayer\" OR \"intercession\" OR \"depth\" OR \"holiness\" OR \"intimacy\" OR \"praying\" OR \"prayer request\"\n",
    "\n",
    "# \"\"\" "
   ]
  },
  {
   "cell_type": "code",
   "execution_count": 12,
   "id": "2c2396f8-0ee9-4677-ab8f-66a42708e5e4",
   "metadata": {},
   "outputs": [],
   "source": [
    "# table_name = 'prophesy'\n",
    "# label = 8\n",
    "# query = \"\"\"\n",
    "\n",
    "# \"prophesy\" OR \"encouragement\" OR \"testimony\" OR \"prophetic word\" OR \"interpretation\"\n",
    "\n",
    "# \"\"\" "
   ]
  },
  {
   "cell_type": "code",
   "execution_count": 13,
   "id": "38cd69f4-5f5f-45a1-a598-25628f865b30",
   "metadata": {},
   "outputs": [],
   "source": [
    "# table_name = 'salvation'\n",
    "# label = 9\n",
    "# query = \"\"\"\n",
    "\n",
    "# \"evangelism\" OR \"trumpet\" OR \"salvation\" OR \"touching lives\" OR \"reaching the nations\" OR \"harvest\" OR \"sowing\" OR \"repentance\" OR \"change of heart\" OR \"turn away from sin\"\n",
    "\n",
    "# \"\"\" "
   ]
  },
  {
   "cell_type": "code",
   "execution_count": 14,
   "id": "f75eeb1f-84b5-4ca6-a192-1b2f1ad5c419",
   "metadata": {},
   "outputs": [],
   "source": [
    "# table_name = 'worship'\n",
    "# label = 10\n",
    "# query = \"\"\"\n",
    "\n",
    "# \"worship\" OR \"praise\" OR \"adoration\" OR \"devotion\" OR \"reverence\" OR \"worship music\" OR \"worship leader\"\n",
    "\n",
    "# \"\"\" "
   ]
  },
  {
   "cell_type": "markdown",
   "id": "a74c6a9c-ecc4-4c36-aef7-5036f92e3c4e",
   "metadata": {},
   "source": [
    "---\n",
    "\n",
    "## Save Data"
   ]
  },
  {
   "cell_type": "code",
   "execution_count": 15,
   "id": "8154e612-f9dd-41de-a3c6-cff5d63628f6",
   "metadata": {},
   "outputs": [],
   "source": [
    "# additional params\n",
    "query_parameters = {\n",
    "    \"query\": f'({query}) lang:en -is:retweet',\n",
    "    \"tweet.fields\": \"id,text,author_id,created_at\",\n",
    "    \"max_results\": max_results,\n",
    "}"
   ]
  },
  {
   "cell_type": "code",
   "execution_count": 16,
   "id": "afa5704e-082a-4940-9c92-9c548a08e032",
   "metadata": {},
   "outputs": [],
   "source": [
    "# headers\n",
    "def request_headers(bearer_token: str) -> dict:\n",
    "    \"\"\"\n",
    "    Sets up the request headers. \n",
    "    Returns a dictionary summarising the bearer token authentication details.\n",
    "    \"\"\"\n",
    "    return {\"Authorization\": f\"Bearer {bearer_token}\"}\n",
    "\n",
    "headers = request_headers(bearer_token)"
   ]
  },
  {
   "cell_type": "code",
   "execution_count": 17,
   "id": "781299db-52c2-4452-8369-ee684802e72e",
   "metadata": {},
   "outputs": [],
   "source": [
    "# connect to endpoint\n",
    "\n",
    "def connect_to_endpoint(endpoint_url: str, headers: dict, parameters: dict) -> json:\n",
    "    \"\"\"\n",
    "    Connects to the endpoint and requests data.\n",
    "    Returns a json with Twitter data if a 200 status code is yielded.\n",
    "    Programme stops if there is a problem with the request and sleeps\n",
    "    if there is a temporary problem accessing the endpoint.\n",
    "    \"\"\"\n",
    "    response = requests.request(\n",
    "        \"GET\", url=endpoint_url, headers=headers, params=parameters\n",
    "    )\n",
    "    response_status_code = response.status_code\n",
    "    if response_status_code != 200:\n",
    "        if response_status_code >= 400 and response_status_code < 500:\n",
    "            raise Exception(\n",
    "                f\"Cannot get data, the program will stop!\\nHTTP {response_status_code}: {response.text}\"\n",
    "            )\n",
    "        \n",
    "        sleep_seconds = random.randint(5, 60)\n",
    "        print(\n",
    "            f\"Cannot get data, your program will sleep for {sleep_seconds} seconds...\\nHTTP { response_status_code}: {response.text}\"\n",
    "        )\n",
    "        time.sleep(sleep_seconds)\n",
    "        return connect_to_endpoint(endpoint_url, headers, parameters)\n",
    "    return response.json()"
   ]
  },
  {
   "cell_type": "code",
   "execution_count": 18,
   "id": "2fa6790c-2e7e-42d7-94a6-f546c69e470e",
   "metadata": {},
   "outputs": [],
   "source": [
    "# capture data\n",
    "json_response = connect_to_endpoint(endpoint_url, headers, query_parameters)"
   ]
  },
  {
   "cell_type": "code",
   "execution_count": 19,
   "id": "f16c6483-d31d-4ea6-baf5-08109c1ac4c3",
   "metadata": {},
   "outputs": [],
   "source": [
    "# # get type\n",
    "# type(json_response)"
   ]
  },
  {
   "cell_type": "code",
   "execution_count": 20,
   "id": "2d0fd453-50e4-4264-8b43-5991c28172cc",
   "metadata": {},
   "outputs": [],
   "source": [
    "# # get keys\n",
    "# json_response.keys()"
   ]
  },
  {
   "cell_type": "code",
   "execution_count": 21,
   "id": "10641ce3-0e0f-4d45-b9b6-de7c261233ad",
   "metadata": {},
   "outputs": [],
   "source": [
    "# # view metadata\n",
    "# json_response[\"meta\"]"
   ]
  },
  {
   "cell_type": "code",
   "execution_count": 22,
   "id": "d7fe18c2-97cf-452d-bc2d-3af0e2e4bd95",
   "metadata": {},
   "outputs": [],
   "source": [
    "# # length of data\n",
    "# len(json_response[\"data\"])"
   ]
  },
  {
   "cell_type": "code",
   "execution_count": 23,
   "id": "3fcf32c1-cc1a-4481-a5ea-4ac48feced44",
   "metadata": {},
   "outputs": [],
   "source": [
    "# # print tweet content\n",
    "# for i in json_response[\"data\"]:\n",
    "#     print('\\n')\n",
    "#     print(i['text'])"
   ]
  },
  {
   "cell_type": "code",
   "execution_count": 24,
   "id": "24b0937c-6720-4397-8659-f1c76c157bd9",
   "metadata": {},
   "outputs": [],
   "source": [
    "# # Regular expressions for matching @user mentions and URLs\n",
    "# user_mention_regex = r'@([A-Za-z0-9_]+)'\n",
    "# url_regex = r'http[s]?://(?:[a-zA-Z]|[0-9]|[$-_@.&+]|[!*\\\\(\\\\),]|(?:%[0-9a-fA-F][0-9a-fA-F]))+'\n",
    "\n",
    "# # Loop through each tweet in the JSON response\n",
    "# for tweet in json_response[\"data\"]:\n",
    "#     # Replace @user mentions with a placeholder string\n",
    "#     text = re.sub(user_mention_regex, '{{USERNAME}}', tweet['text'])\n",
    "    \n",
    "#     # Replace URLs with a placeholder string\n",
    "#     text = re.sub(url_regex, '{{URL}}', text)\n",
    "    \n",
    "#     # Print the masked tweet text\n",
    "#     print('\\n')\n",
    "#     print(text)"
   ]
  },
  {
   "cell_type": "code",
   "execution_count": 26,
   "id": "a4e68950-7a75-4f94-bacb-b3c0826d2217",
   "metadata": {},
   "outputs": [],
   "source": [
    "# print(f\"Text: {tweet['text']}\")\n",
    "# print(f\"Date: {tweet['created_at']}\") # need to format\n",
    "\n",
    "# print(f\"Label: PLACEHOLDER\")\n",
    "# print(f\"Lable Name: PLACEHOLDER\")\n",
    "# print(f\"ID: PLACEHOLDER\")"
   ]
  },
  {
   "cell_type": "code",
   "execution_count": 27,
   "id": "304f1a28-3d88-4d3e-bc36-202a920ed3e8",
   "metadata": {},
   "outputs": [
    {
     "data": {
      "text/html": [
       "<div>\n",
       "<style scoped>\n",
       "    .dataframe tbody tr th:only-of-type {\n",
       "        vertical-align: middle;\n",
       "    }\n",
       "\n",
       "    .dataframe tbody tr th {\n",
       "        vertical-align: top;\n",
       "    }\n",
       "\n",
       "    .dataframe thead th {\n",
       "        text-align: right;\n",
       "    }\n",
       "</style>\n",
       "<table border=\"1\" class=\"dataframe\">\n",
       "  <thead>\n",
       "    <tr style=\"text-align: right;\">\n",
       "      <th></th>\n",
       "      <th>text</th>\n",
       "      <th>date</th>\n",
       "      <th>label</th>\n",
       "      <th>label_name</th>\n",
       "      <th>id</th>\n",
       "    </tr>\n",
       "  </thead>\n",
       "  <tbody>\n",
       "    <tr>\n",
       "      <th>0</th>\n",
       "      <td>All religions must be subservient to the will ...</td>\n",
       "      <td>2024-04-29</td>\n",
       "      <td>4</td>\n",
       "      <td>fellowship</td>\n",
       "      <td>1785029802770174386</td>\n",
       "    </tr>\n",
       "    <tr>\n",
       "      <th>1</th>\n",
       "      <td>Countdown to Bitcoin Halving: A Momentous Even...</td>\n",
       "      <td>2024-04-29</td>\n",
       "      <td>4</td>\n",
       "      <td>fellowship</td>\n",
       "      <td>1785029796205854862</td>\n",
       "    </tr>\n",
       "    <tr>\n",
       "      <th>2</th>\n",
       "      <td>Day 15 of building every day in public until I...</td>\n",
       "      <td>2024-04-29</td>\n",
       "      <td>4</td>\n",
       "      <td>fellowship</td>\n",
       "      <td>1785029773078749351</td>\n",
       "    </tr>\n",
       "    <tr>\n",
       "      <th>3</th>\n",
       "      <td>On Campus Action and the Unity of the Fields (...</td>\n",
       "      <td>2024-04-29</td>\n",
       "      <td>4</td>\n",
       "      <td>fellowship</td>\n",
       "      <td>1785029762760716712</td>\n",
       "    </tr>\n",
       "    <tr>\n",
       "      <th>4</th>\n",
       "      <td>Arise. Unity self-expression, we want our chil...</td>\n",
       "      <td>2024-04-29</td>\n",
       "      <td>4</td>\n",
       "      <td>fellowship</td>\n",
       "      <td>1785029727801012682</td>\n",
       "    </tr>\n",
       "    <tr>\n",
       "      <th>5</th>\n",
       "      <td>@Sakowitz___ it's made in Unity!</td>\n",
       "      <td>2024-04-29</td>\n",
       "      <td>4</td>\n",
       "      <td>fellowship</td>\n",
       "      <td>1785029660075810973</td>\n",
       "    </tr>\n",
       "    <tr>\n",
       "      <th>6</th>\n",
       "      <td>\"Harmony of Hope: A Patriotic Song for a Unite...</td>\n",
       "      <td>2024-04-29</td>\n",
       "      <td>4</td>\n",
       "      <td>fellowship</td>\n",
       "      <td>1785029610414985724</td>\n",
       "    </tr>\n",
       "    <tr>\n",
       "      <th>7</th>\n",
       "      <td>\"Harmony of Hope: A Patriotic Song for a Unite...</td>\n",
       "      <td>2024-04-29</td>\n",
       "      <td>4</td>\n",
       "      <td>fellowship</td>\n",
       "      <td>1785029599153242273</td>\n",
       "    </tr>\n",
       "    <tr>\n",
       "      <th>8</th>\n",
       "      <td>@backdoc47 @Tomas_Menos @Burgess7281975 Based ...</td>\n",
       "      <td>2024-04-29</td>\n",
       "      <td>4</td>\n",
       "      <td>fellowship</td>\n",
       "      <td>1785029596007567434</td>\n",
       "    </tr>\n",
       "    <tr>\n",
       "      <th>9</th>\n",
       "      <td>@JonesAlber66112 Harmony</td>\n",
       "      <td>2024-04-29</td>\n",
       "      <td>4</td>\n",
       "      <td>fellowship</td>\n",
       "      <td>1785029578819506407</td>\n",
       "    </tr>\n",
       "  </tbody>\n",
       "</table>\n",
       "</div>"
      ],
      "text/plain": [
       "                                                text        date  label  \\\n",
       "0  All religions must be subservient to the will ...  2024-04-29      4   \n",
       "1  Countdown to Bitcoin Halving: A Momentous Even...  2024-04-29      4   \n",
       "2  Day 15 of building every day in public until I...  2024-04-29      4   \n",
       "3  On Campus Action and the Unity of the Fields (...  2024-04-29      4   \n",
       "4  Arise. Unity self-expression, we want our chil...  2024-04-29      4   \n",
       "5                   @Sakowitz___ it's made in Unity!  2024-04-29      4   \n",
       "6  \"Harmony of Hope: A Patriotic Song for a Unite...  2024-04-29      4   \n",
       "7  \"Harmony of Hope: A Patriotic Song for a Unite...  2024-04-29      4   \n",
       "8  @backdoc47 @Tomas_Menos @Burgess7281975 Based ...  2024-04-29      4   \n",
       "9                           @JonesAlber66112 Harmony  2024-04-29      4   \n",
       "\n",
       "   label_name                   id  \n",
       "0  fellowship  1785029802770174386  \n",
       "1  fellowship  1785029796205854862  \n",
       "2  fellowship  1785029773078749351  \n",
       "3  fellowship  1785029762760716712  \n",
       "4  fellowship  1785029727801012682  \n",
       "5  fellowship  1785029660075810973  \n",
       "6  fellowship  1785029610414985724  \n",
       "7  fellowship  1785029599153242273  \n",
       "8  fellowship  1785029596007567434  \n",
       "9  fellowship  1785029578819506407  "
      ]
     },
     "execution_count": 27,
     "metadata": {},
     "output_type": "execute_result"
    }
   ],
   "source": [
    "# Create a DataFrame from the dictionary\n",
    "df = pd.DataFrame(json_response[\"data\"])\n",
    "\n",
    "\n",
    "df = df.rename(columns={'created_at': 'date'})\n",
    "\n",
    "df.drop(['author_id', 'edit_history_tweet_ids'], axis=1, inplace=True)\n",
    "\n",
    "df['label'] = label\n",
    "\n",
    "df['label_name'] = table_name\n",
    "\n",
    "# Convert datetime string to pandas datetime object\n",
    "df['date'] = pd.to_datetime(df['date'])\n",
    "\n",
    "# Extract date part\n",
    "df['date'] = df['date'].dt.date\n",
    "\n",
    "# Convert date object back to string if needed\n",
    "df['date'] = df['date'].astype(str)\n",
    "\n",
    "df = df[['text', 'date', 'label', 'label_name', 'id']]\n",
    "\n",
    "# Display the DataFrame\n",
    "df.head(10)"
   ]
  },
  {
   "cell_type": "code",
   "execution_count": 28,
   "id": "ddb49be8-c2ba-45c8-a5c0-e187df107ae3",
   "metadata": {},
   "outputs": [
    {
     "name": "stdout",
     "output_type": "stream",
     "text": [
      "<class 'pandas.core.frame.DataFrame'>\n",
      "RangeIndex: 99 entries, 0 to 98\n",
      "Data columns (total 5 columns):\n",
      " #   Column      Non-Null Count  Dtype \n",
      "---  ------      --------------  ----- \n",
      " 0   text        99 non-null     object\n",
      " 1   date        99 non-null     object\n",
      " 2   label       99 non-null     int64 \n",
      " 3   label_name  99 non-null     object\n",
      " 4   id          99 non-null     object\n",
      "dtypes: int64(1), object(4)\n",
      "memory usage: 4.0+ KB\n"
     ]
    }
   ],
   "source": [
    "df.info()"
   ]
  },
  {
   "cell_type": "code",
   "execution_count": 29,
   "id": "f02bcaaa-3e47-430a-9f18-baf3ae915f3e",
   "metadata": {},
   "outputs": [],
   "source": [
    "import re\n",
    "\n",
    "# Regular expression pattern for matching @user mentions and URLs\n",
    "mention_url_regex = r'(@[A-Za-z0-9_]+|http[s]?://(?:[a-zA-Z]|[0-9]|[$-_@.&+]|[!*\\\\(\\\\),]|(?:%[0-9a-fA-F][0-9a-fA-F]))+)'\n",
    "\n",
    "# Function to replace @user mentions, URLs, and newlines with placeholders\n",
    "def replace_mentions_urls(tweet):\n",
    "    # Replace @user mentions and URLs with placeholders\n",
    "    tweet = re.sub(mention_url_regex, lambda match: '{{USERNAME}}' if match.group(1).startswith('@') else '{{URL}}', tweet)\n",
    "    \n",
    "    # Replace newlines with tabs\n",
    "    tweet = tweet.replace('\\n', '\\t')\n",
    "    \n",
    "    return tweet\n",
    "\n",
    "# Apply the function to each row in the 'text' column\n",
    "df['text'] = df['text'].apply(replace_mentions_urls)\n",
    "df = df.drop_duplicates()"
   ]
  },
  {
   "cell_type": "code",
   "execution_count": 30,
   "id": "cd9667f0-fe3a-49d8-9f93-d4c3e1f0e92e",
   "metadata": {},
   "outputs": [],
   "source": [
    "# df.head(10)"
   ]
  },
  {
   "cell_type": "code",
   "execution_count": 31,
   "id": "2e24ca37-1a8c-4876-8902-1fd8d0a5acd8",
   "metadata": {},
   "outputs": [],
   "source": [
    "# df.text[1]"
   ]
  },
  {
   "cell_type": "code",
   "execution_count": 32,
   "id": "b423a795-5e0a-45f0-a4f2-ff1c5250c429",
   "metadata": {},
   "outputs": [
    {
     "data": {
      "text/html": [
       "<div>\n",
       "<style scoped>\n",
       "    .dataframe tbody tr th:only-of-type {\n",
       "        vertical-align: middle;\n",
       "    }\n",
       "\n",
       "    .dataframe tbody tr th {\n",
       "        vertical-align: top;\n",
       "    }\n",
       "\n",
       "    .dataframe thead th {\n",
       "        text-align: right;\n",
       "    }\n",
       "</style>\n",
       "<table border=\"1\" class=\"dataframe\">\n",
       "  <thead>\n",
       "    <tr style=\"text-align: right;\">\n",
       "      <th></th>\n",
       "      <th>text</th>\n",
       "      <th>date</th>\n",
       "      <th>label</th>\n",
       "      <th>label_name</th>\n",
       "      <th>id</th>\n",
       "    </tr>\n",
       "  </thead>\n",
       "  <tbody>\n",
       "    <tr>\n",
       "      <th>0</th>\n",
       "      <td>All religions must be subservient to the will ...</td>\n",
       "      <td>2024-04-29</td>\n",
       "      <td>4</td>\n",
       "      <td>fellowship</td>\n",
       "      <td>1785029802770174386</td>\n",
       "    </tr>\n",
       "    <tr>\n",
       "      <th>1</th>\n",
       "      <td>Countdown to Bitcoin Halving: A Momentous Even...</td>\n",
       "      <td>2024-04-29</td>\n",
       "      <td>4</td>\n",
       "      <td>fellowship</td>\n",
       "      <td>1785029796205854862</td>\n",
       "    </tr>\n",
       "    <tr>\n",
       "      <th>2</th>\n",
       "      <td>Day 15 of building every day in public until I...</td>\n",
       "      <td>2024-04-29</td>\n",
       "      <td>4</td>\n",
       "      <td>fellowship</td>\n",
       "      <td>1785029773078749351</td>\n",
       "    </tr>\n",
       "    <tr>\n",
       "      <th>3</th>\n",
       "      <td>On Campus Action and the Unity of the Fields (...</td>\n",
       "      <td>2024-04-29</td>\n",
       "      <td>4</td>\n",
       "      <td>fellowship</td>\n",
       "      <td>1785029762760716712</td>\n",
       "    </tr>\n",
       "    <tr>\n",
       "      <th>4</th>\n",
       "      <td>Arise. Unity self-expression, we want our chil...</td>\n",
       "      <td>2024-04-29</td>\n",
       "      <td>4</td>\n",
       "      <td>fellowship</td>\n",
       "      <td>1785029727801012682</td>\n",
       "    </tr>\n",
       "    <tr>\n",
       "      <th>5</th>\n",
       "      <td>{{USERNAME}} it's made in Unity!</td>\n",
       "      <td>2024-04-29</td>\n",
       "      <td>4</td>\n",
       "      <td>fellowship</td>\n",
       "      <td>1785029660075810973</td>\n",
       "    </tr>\n",
       "    <tr>\n",
       "      <th>6</th>\n",
       "      <td>\"Harmony of Hope: A Patriotic Song for a Unite...</td>\n",
       "      <td>2024-04-29</td>\n",
       "      <td>4</td>\n",
       "      <td>fellowship</td>\n",
       "      <td>1785029610414985724</td>\n",
       "    </tr>\n",
       "    <tr>\n",
       "      <th>7</th>\n",
       "      <td>\"Harmony of Hope: A Patriotic Song for a Unite...</td>\n",
       "      <td>2024-04-29</td>\n",
       "      <td>4</td>\n",
       "      <td>fellowship</td>\n",
       "      <td>1785029599153242273</td>\n",
       "    </tr>\n",
       "    <tr>\n",
       "      <th>8</th>\n",
       "      <td>{{USERNAME}} {{USERNAME}} {{USERNAME}} Based o...</td>\n",
       "      <td>2024-04-29</td>\n",
       "      <td>4</td>\n",
       "      <td>fellowship</td>\n",
       "      <td>1785029596007567434</td>\n",
       "    </tr>\n",
       "    <tr>\n",
       "      <th>9</th>\n",
       "      <td>{{USERNAME}} Harmony</td>\n",
       "      <td>2024-04-29</td>\n",
       "      <td>4</td>\n",
       "      <td>fellowship</td>\n",
       "      <td>1785029578819506407</td>\n",
       "    </tr>\n",
       "  </tbody>\n",
       "</table>\n",
       "</div>"
      ],
      "text/plain": [
       "                                                text        date  label  \\\n",
       "0  All religions must be subservient to the will ...  2024-04-29      4   \n",
       "1  Countdown to Bitcoin Halving: A Momentous Even...  2024-04-29      4   \n",
       "2  Day 15 of building every day in public until I...  2024-04-29      4   \n",
       "3  On Campus Action and the Unity of the Fields (...  2024-04-29      4   \n",
       "4  Arise. Unity self-expression, we want our chil...  2024-04-29      4   \n",
       "5                   {{USERNAME}} it's made in Unity!  2024-04-29      4   \n",
       "6  \"Harmony of Hope: A Patriotic Song for a Unite...  2024-04-29      4   \n",
       "7  \"Harmony of Hope: A Patriotic Song for a Unite...  2024-04-29      4   \n",
       "8  {{USERNAME}} {{USERNAME}} {{USERNAME}} Based o...  2024-04-29      4   \n",
       "9                               {{USERNAME}} Harmony  2024-04-29      4   \n",
       "\n",
       "   label_name                   id  \n",
       "0  fellowship  1785029802770174386  \n",
       "1  fellowship  1785029796205854862  \n",
       "2  fellowship  1785029773078749351  \n",
       "3  fellowship  1785029762760716712  \n",
       "4  fellowship  1785029727801012682  \n",
       "5  fellowship  1785029660075810973  \n",
       "6  fellowship  1785029610414985724  \n",
       "7  fellowship  1785029599153242273  \n",
       "8  fellowship  1785029596007567434  \n",
       "9  fellowship  1785029578819506407  "
      ]
     },
     "execution_count": 32,
     "metadata": {},
     "output_type": "execute_result"
    }
   ],
   "source": [
    "df.head(10)"
   ]
  },
  {
   "cell_type": "code",
   "execution_count": 33,
   "id": "54f978fc-e645-49d7-b2dd-1cda606f429f",
   "metadata": {},
   "outputs": [],
   "source": [
    "# for i in df.text:\n",
    "#     print(i)"
   ]
  },
  {
   "cell_type": "code",
   "execution_count": 34,
   "id": "9f188c76-5a1b-4ec5-9b69-a9681d5e1fe7",
   "metadata": {},
   "outputs": [],
   "source": [
    "def add_dataframe_to_csv(dataframe, csv_file):\n",
    "    # Load existing CSV file into DataFrame if it exists\n",
    "    try:\n",
    "        existing_df = pd.read_csv(csv_file)\n",
    "    except FileNotFoundError:\n",
    "        existing_df = pd.DataFrame()\n",
    "\n",
    "    # Concatenate new DataFrame with existing DataFrame\n",
    "    updated_df = pd.concat([existing_df, dataframe], ignore_index=True)\n",
    "\n",
    "    # Save updated DataFrame to CSV file\n",
    "    updated_df.to_csv(csv_file, index=False)\n"
   ]
  },
  {
   "cell_type": "code",
   "execution_count": 35,
   "id": "441cc466-b560-4860-9d0d-5c729b517e01",
   "metadata": {},
   "outputs": [],
   "source": [
    "add_dataframe_to_csv(df, f'./Data/{table_name}.csv')"
   ]
  },
  {
   "cell_type": "markdown",
   "id": "587512ba-69ea-40d6-8191-e5fb835c76ab",
   "metadata": {},
   "source": [
    "# Drop Duplicates"
   ]
  },
  {
   "cell_type": "code",
   "execution_count": 36,
   "id": "ef5e807d-ff11-4a84-a2c4-bef1f205c84a",
   "metadata": {},
   "outputs": [
    {
     "data": {
      "text/plain": [
       "(1499, 5)"
      ]
     },
     "execution_count": 36,
     "metadata": {},
     "output_type": "execute_result"
    }
   ],
   "source": [
    "df = pd.read_csv(f'data/{table_name}.csv')\n",
    "df.shape"
   ]
  },
  {
   "cell_type": "code",
   "execution_count": 37,
   "id": "405a94dc-2d5b-464c-945b-13ddded2e377",
   "metadata": {},
   "outputs": [
    {
     "data": {
      "text/plain": [
       "(1499, 5)"
      ]
     },
     "execution_count": 37,
     "metadata": {},
     "output_type": "execute_result"
    }
   ],
   "source": [
    "df = df.drop_duplicates()\n",
    "df.shape"
   ]
  },
  {
   "cell_type": "code",
   "execution_count": 38,
   "id": "05400e26-d6b8-4626-922d-cecd9c84bcd1",
   "metadata": {},
   "outputs": [],
   "source": [
    "df.to_csv(f'data/{table_name}.csv', index=False)"
   ]
  },
  {
   "cell_type": "code",
   "execution_count": null,
   "id": "9f1f7e57-7c47-49db-8daf-b43f9ac15cb1",
   "metadata": {},
   "outputs": [],
   "source": []
  }
 ],
 "metadata": {
  "kernelspec": {
   "display_name": "Python 3 (ipykernel)",
   "language": "python",
   "name": "python3"
  },
  "language_info": {
   "codemirror_mode": {
    "name": "ipython",
    "version": 3
   },
   "file_extension": ".py",
   "mimetype": "text/x-python",
   "name": "python",
   "nbconvert_exporter": "python",
   "pygments_lexer": "ipython3",
   "version": "3.12.1"
  }
 },
 "nbformat": 4,
 "nbformat_minor": 5
}
